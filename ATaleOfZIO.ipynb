{
 "cells": [
  {
   "cell_type": "code",
   "execution_count": null,
   "metadata": {
    "scrolled": true
   },
   "outputs": [],
   "source": [
    "import $ivy.`io.prometheus:simpleclient:0.8.1`\n",
    "import $ivy.`io.prometheus:simpleclient_common:0.8.1`\n",
    "import $ivy.`dev.zio::zio:1.0.0-RC18-2`"
   ]
  },
  {
   "cell_type": "code",
   "execution_count": 12,
   "metadata": {},
   "outputs": [],
   "source": [
    "CollectorRegistry.defaultRegistry.clear()"
   ]
  },
  {
   "cell_type": "code",
   "execution_count": null,
   "metadata": {
    "scrolled": true
   },
   "outputs": [],
   "source": [
    "// This is a Java Library\n",
    "import io.prometheus.client.CollectorRegistry\n",
    "import io.prometheus.client.{ Counter, Histogram }\n",
    "import io.prometheus.client.exporter.common.TextFormat\n",
    "\n",
    "// Spread operator => :_*\n",
    "val c = Counter\n",
    "    .build()\n",
    "    .name(\"PrometheusCounter\")\n",
    "    .labelNames(Array(\"class\", \"method\"): _*)\n",
    "    .help(s\"Sample prometheus counter\")\n",
    "    .register()\n",
    "\n",
    "val h = Histogram\n",
    "    .build()\n",
    "    .name(\"PrometheusHistogram\")\n",
    "    .labelNames(Array(\"class\", \"method\"): _*)\n",
    "    .linearBuckets(0.0, 0.2, 5)\n",
    "    .help(s\"Sample prometheus histogram\")\n",
    "    .register()"
   ]
  },
  {
   "cell_type": "code",
   "execution_count": 14,
   "metadata": {
    "scrolled": true
   },
   "outputs": [],
   "source": [
    "c.labels(Array(\"Users\", \"getTotal\"):_*).inc()\n",
    "c.labels(Array(\"Users\", \"getUsers\"):_*).inc(3)\n",
    "\n",
    "h.labels(Array(\"Users\", \"getTotal\"):_*).observe(0.32)\n",
    "h.labels(Array(\"Users\", \"getUsers\"):_*).observe(0.45)"
   ]
  },
  {
   "cell_type": "code",
   "execution_count": null,
   "metadata": {
    "scrolled": true
   },
   "outputs": [],
   "source": [
    "import java.io.StringWriter\n",
    "\n",
    "def write004(registry: CollectorRegistry) = {\n",
    "    val writer = new StringWriter\n",
    "    TextFormat.write004(writer, registry.metricFamilySamples)\n",
    "    writer.toString\n",
    "}\n",
    "\n",
    "write004(CollectorRegistry.defaultRegistry)"
   ]
  },
  {
   "cell_type": "code",
   "execution_count": 21,
   "metadata": {},
   "outputs": [
    {
     "name": "stdout",
     "output_type": "stream",
     "text": [
      "# HELP PrometheusHistogram Sample prometheus histogram\n",
      "# TYPE PrometheusHistogram histogram\n",
      "PrometheusHistogram_bucket{class=\"Users\",method=\"getTotal\",le=\"0.0\",} 0.0\n",
      "PrometheusHistogram_bucket{class=\"Users\",method=\"getTotal\",le=\"0.2\",} 0.0\n",
      "PrometheusHistogram_bucket{class=\"Users\",method=\"getTotal\",le=\"0.4\",} 1.0\n",
      "PrometheusHistogram_bucket{class=\"Users\",method=\"getTotal\",le=\"0.6000000000000001\",} 1.0\n",
      "PrometheusHistogram_bucket{class=\"Users\",method=\"getTotal\",le=\"0.8\",} 1.0\n",
      "PrometheusHistogram_bucket{class=\"Users\",method=\"getTotal\",le=\"+Inf\",} 1.0\n",
      "PrometheusHistogram_count{class=\"Users\",method=\"getTotal\",} 1.0\n",
      "PrometheusHistogram_sum{class=\"Users\",method=\"getTotal\",} 0.32\n",
      "PrometheusHistogram_bucket{class=\"Users\",method=\"getUsers\",le=\"0.0\",} 0.0\n",
      "PrometheusHistogram_bucket{class=\"Users\",method=\"getUsers\",le=\"0.2\",} 0.0\n",
      "PrometheusHistogram_bucket{class=\"Users\",method=\"getUsers\",le=\"0.4\",} 0.0\n",
      "PrometheusHistogram_bucket{class=\"Users\",method=\"getUsers\",le=\"0.6000000000000001\",} 1.0\n",
      "PrometheusHistogram_bucket{class=\"Users\",method=\"getUsers\",le=\"0.8\",} 1.0\n",
      "PrometheusHistogram_bucket{class=\"Users\",method=\"getUsers\",le=\"+Inf\",} 1.0\n",
      "PrometheusHistogram_count{class=\"Users\",method=\"getUsers\",} 1.0\n",
      "PrometheusHistogram_sum{class=\"Users\",method=\"getUsers\",} 0.45\n",
      "# HELP PrometheusCounter Sample prometheus counter\n",
      "# TYPE PrometheusCounter counter\n",
      "PrometheusCounter{class=\"Users\",method=\"getTotal\",} 1.0\n",
      "PrometheusCounter{class=\"Users\",method=\"getUsers\",} 3.0\n",
      "\n"
     ]
    },
    {
     "data": {
      "text/plain": [
       "\u001b[32mimport \u001b[39m\u001b[36mzio.console.putStrLn\n",
       "\u001b[39m\n",
       "\u001b[32mimport \u001b[39m\u001b[36mzio.console.Console\n",
       "\u001b[39m\n",
       "\u001b[32mimport \u001b[39m\u001b[36mzio.Runtime\n",
       "\n",
       "\u001b[39m\n",
       "\u001b[36mwriteT004\u001b[39m: \u001b[32mCollectorRegistry\u001b[39m => \u001b[32mTask\u001b[39m[\u001b[32mString\u001b[39m] = ammonite.$sess.cmd20$Helper$$Lambda$2970/1100432450@1ff97122\n",
       "\u001b[36mexternalRegistry\u001b[39m: \u001b[32mTask\u001b[39m[\u001b[32mCollectorRegistry\u001b[39m] = zio.ZIO$EffectPartial@389c178d\n",
       "\u001b[36mprogram\u001b[39m: \u001b[32mzio\u001b[39m.\u001b[32mZIO\u001b[39m[\u001b[32mAny\u001b[39m, \u001b[32mThrowable\u001b[39m, \u001b[32mString\u001b[39m] = zio.ZIO$FlatMap@55aea472\n",
       "\u001b[36mrt\u001b[39m: \u001b[32mRuntime\u001b[39m.\u001b[32mManaged\u001b[39m[\u001b[32mConsole\u001b[39m] = zio.Runtime$Managed$$anon$1@55af49cc"
      ]
     },
     "execution_count": 21,
     "metadata": {},
     "output_type": "execute_result"
    }
   ],
   "source": [
    "import zio.console.putStrLn\n",
    "import zio.console.Console\n",
    "import zio.Runtime\n",
    "\n",
    "val writeT004: CollectorRegistry => Task[String] = registry => Task {\n",
    "    val writer = new StringWriter\n",
    "    TextFormat.write004(writer, registry.metricFamilySamples)\n",
    "    writer.toString\n",
    "}\n",
    "\n",
    "val externalRegistry = Task.effect(CollectorRegistry.defaultRegistry)\n",
    "\n",
    "val program = for {\n",
    "    r <- externalRegistry\n",
    "    s <- writeT004(r)\n",
    "} yield s\n",
    "\n",
    "val rt = Runtime.unsafeFromLayer(Console.live)\n",
    "\n",
    "rt.unsafeRun(program >>= (s => putStrLn(s)))\n"
   ]
  },
  {
   "cell_type": "code",
   "execution_count": 22,
   "metadata": {},
   "outputs": [
    {
     "data": {
      "text/plain": [
       "\u001b[32mimport \u001b[39m\u001b[36mzio.{ Has, Layer, ZLayer }\n",
       "\u001b[39m\n",
       "\u001b[32mimport \u001b[39m\u001b[36mzio.{ RIO, Task }\n",
       "\n",
       "\u001b[39m\n",
       "defined \u001b[32mtype\u001b[39m \u001b[36mMetrics\u001b[39m\n",
       "defined \u001b[32mobject\u001b[39m \u001b[36mMetrics\u001b[39m"
      ]
     },
     "execution_count": 22,
     "metadata": {},
     "output_type": "execute_result"
    }
   ],
   "source": [
    "import zio.{ Has, Layer, ZLayer }\n",
    "import zio.{ RIO, Task }\n",
    "\n",
    "type Metrics = Has[Metrics.Service]\n",
    "\n",
    "object Metrics {\n",
    "    trait Service {\n",
    "      def getRegistry(): Task[CollectorRegistry]\n",
    "\n",
    "      def inc(tags: Array[String]): Task[Unit]\n",
    "\n",
    "      def inc(amount: Double, tags: Array[String]): Task[Unit]\n",
    "\n",
    "      def time(f: () => Unit, tags: Array[String]): Task[Double]\n",
    "\n",
    "    }\n",
    "\n",
    "    val live: Layer[Nothing, Metrics] = ZLayer.succeed(new Service {\n",
    "\n",
    "      private val (myCounter, myHistogram) = {\n",
    "          val c = Counter\n",
    "            .build()\n",
    "            .name(\"LayerCounter\")\n",
    "            .labelNames(Array(\"class\", \"method\"): _*)\n",
    "            .help(s\"Prometheus counter inside a layer\")\n",
    "            .register()\n",
    "\n",
    "        val h = Histogram\n",
    "            .build()\n",
    "            .name(\"LayerHistogram\")\n",
    "            .labelNames(Array(\"class\", \"method\"): _*)\n",
    "            .linearBuckets(0.0, 0.2, 5)\n",
    "            .help(s\"Prometheus histogram inside a layer\")\n",
    "            .register()\n",
    "          \n",
    "          (c, h)\n",
    "      }\n",
    "\n",
    "      def getRegistry(): Task[CollectorRegistry] =\n",
    "        Task.effect(CollectorRegistry.defaultRegistry)\n",
    "\n",
    "      def inc(tags: Array[String]): zio.Task[Unit] =\n",
    "        inc(1.0, tags)\n",
    "\n",
    "      def inc(amount: Double, tags: Array[String]): Task[Unit] =\n",
    "        Task(myCounter.labels(tags:_*)inc(amount))\n",
    "\n",
    "      def time(f: () => Unit, tags: Array[String]): Task[Double] = Task {\n",
    "          val t = myHistogram.labels(tags: _*).startTimer()\n",
    "          f()\n",
    "          t.observeDuration()\n",
    "      }\n",
    "    })\n",
    "}"
   ]
  },
  {
   "cell_type": "code",
   "execution_count": 25,
   "metadata": {},
   "outputs": [
    {
     "data": {
      "text/plain": [
       "\u001b[36mprogram1\u001b[39m: \u001b[32mzio\u001b[39m.\u001b[32mZIO\u001b[39m[\u001b[32mMetrics\u001b[39m with \u001b[32mConsole\u001b[39m, \u001b[32mThrowable\u001b[39m, \u001b[32mUnit\u001b[39m] = zio.ZIO$FlatMap@5473d353"
      ]
     },
     "execution_count": 25,
     "metadata": {},
     "output_type": "execute_result"
    }
   ],
   "source": [
    "val program1 = for {\n",
    "      m  <- RIO.environment[Metrics]\n",
    "      _  <- putStrLn(\"Metrics\")\n",
    "      r  <- m.get.getRegistry()\n",
    "      _  <- m.get.inc(Array(\"RequestCounter\", \"get\"))\n",
    "      _  <- m.get.inc(Array(\"RequestCounter\", \"post\"))\n",
    "      _  <- m.get.inc(2.0, Array(\"LoginCounter\", \"login\"))\n",
    "      _  <- m.get.time(() => Thread.sleep(2000), Array(\"histogram\", \"get\"))\n",
    "      s  <- writeT004(r)\n",
    "      _  <- putStrLn(s)\n",
    "    } yield ()"
   ]
  },
  {
   "cell_type": "code",
   "execution_count": 28,
   "metadata": {},
   "outputs": [
    {
     "name": "stdout",
     "output_type": "stream",
     "text": [
      "Metrics\n",
      "# HELP LayerHistogram Prometheus histogram inside a layer\n",
      "# TYPE LayerHistogram histogram\n",
      "LayerHistogram_bucket{class=\"histogram\",method=\"get\",le=\"0.0\",} 0.0\n",
      "LayerHistogram_bucket{class=\"histogram\",method=\"get\",le=\"0.2\",} 0.0\n",
      "LayerHistogram_bucket{class=\"histogram\",method=\"get\",le=\"0.4\",} 0.0\n",
      "LayerHistogram_bucket{class=\"histogram\",method=\"get\",le=\"0.6000000000000001\",} 0.0\n",
      "LayerHistogram_bucket{class=\"histogram\",method=\"get\",le=\"0.8\",} 0.0\n",
      "LayerHistogram_bucket{class=\"histogram\",method=\"get\",le=\"+Inf\",} 1.0\n",
      "LayerHistogram_count{class=\"histogram\",method=\"get\",} 1.0\n",
      "LayerHistogram_sum{class=\"histogram\",method=\"get\",} 2.000147973\n",
      "# HELP LayerCounter Prometheus counter inside a layer\n",
      "# TYPE LayerCounter counter\n",
      "LayerCounter{class=\"RequestCounter\",method=\"get\",} 1.0\n",
      "LayerCounter{class=\"RequestCounter\",method=\"post\",} 1.0\n",
      "LayerCounter{class=\"LoginCounter\",method=\"login\",} 2.0\n",
      "\n"
     ]
    }
   ],
   "source": [
    "CollectorRegistry.defaultRegistry.clear()\n",
    "rt.unsafeRun(program1.provideSomeLayer[Console](Metrics.live))"
   ]
  },
  {
   "cell_type": "code",
   "execution_count": 32,
   "metadata": {},
   "outputs": [
    {
     "data": {
      "text/plain": [
       "defined \u001b[32mtype\u001b[39m \u001b[36mMetrics2\u001b[39m\n",
       "defined \u001b[32mobject\u001b[39m \u001b[36mMetrics2\u001b[39m"
      ]
     },
     "execution_count": 32,
     "metadata": {},
     "output_type": "execute_result"
    }
   ],
   "source": [
    "type Metrics2 = Has[Metrics2.Service]\n",
    "\n",
    "object Metrics2 {\n",
    "    trait Service {\n",
    "      def getRegistry(): Task[CollectorRegistry]\n",
    "\n",
    "      def inc(tags: Array[String]): Task[Unit]\n",
    "\n",
    "      def inc(amount: Double, tags: Array[String]): Task[Unit]\n",
    "\n",
    "      def time(f: () => Unit, tags: Array[String]): Task[Double]\n",
    "\n",
    "    }\n",
    "\n",
    "    val receiver: (Counter, Histogram) => Layer[Nothing, Metrics2] = \n",
    "    (myCounter, myHistogram) => ZLayer.succeed(new Service {\n",
    "\n",
    "      def getRegistry(): Task[CollectorRegistry] =\n",
    "        Task.effect(CollectorRegistry.defaultRegistry)\n",
    "\n",
    "      def inc(tags: Array[String]): zio.Task[Unit] =\n",
    "        inc(1.0, tags)\n",
    "\n",
    "      def inc(amount: Double, tags: Array[String]): Task[Unit] =\n",
    "        Task(myCounter.labels(tags:_*)inc(amount))\n",
    "\n",
    "      def time(f: () => Unit, tags: Array[String]): Task[Double] = Task {\n",
    "          val t = myHistogram.labels(tags: _*).startTimer()\n",
    "          f()\n",
    "          t.observeDuration()\n",
    "      }\n",
    "    })\n",
    "    \n",
    "    val receiverHas: ZLayer[Has[(Counter, Histogram)], Nothing, Metrics2] =\n",
    "      ZLayer.fromFunction[Has[(Counter, Histogram)], Metrics2.Service](\n",
    "        tup => new Service {\n",
    "\n",
    "            def getRegistry(): Task[CollectorRegistry] =\n",
    "              Task.effect(CollectorRegistry.defaultRegistry)\n",
    "\n",
    "            def inc(tags: Array[String]): zio.Task[Unit] =\n",
    "              inc(1.0, tags)\n",
    "\n",
    "            def inc(amount: Double, tags: Array[String]): Task[Unit] =\n",
    "              Task(tup.get._1.labels(tags:_*)inc(amount))\n",
    "\n",
    "            def time(f: () => Unit, tags: Array[String]): Task[Double] = Task {\n",
    "              val t = tup.get._2.labels(tags: _*).startTimer()\n",
    "              f()\n",
    "              t.observeDuration()\n",
    "            }\n",
    "          }\n",
    "      )\n",
    "}"
   ]
  },
  {
   "cell_type": "code",
   "execution_count": 65,
   "metadata": {},
   "outputs": [],
   "source": [
    "CollectorRegistry.defaultRegistry.clear()"
   ]
  },
  {
   "cell_type": "code",
   "execution_count": 62,
   "metadata": {},
   "outputs": [
    {
     "data": {
      "text/plain": [
       "\u001b[36mc\u001b[39m: \u001b[32mCounter\u001b[39m = io.prometheus.client.Counter@49854c92\n",
       "\u001b[36mh\u001b[39m: \u001b[32mHistogram\u001b[39m = io.prometheus.client.Histogram@3e5b19d2"
      ]
     },
     "execution_count": 62,
     "metadata": {},
     "output_type": "execute_result"
    }
   ],
   "source": [
    "val c = Counter\n",
    "    .build()\n",
    "    .name(\"PrometheusCounter\")\n",
    "    .labelNames(Array(\"class\", \"method\"): _*)\n",
    "    .help(s\"Sample prometheus counter\")\n",
    "    .register()\n",
    "\n",
    "val h = Histogram\n",
    "    .build()\n",
    "    .name(\"PrometheusHistogram\")\n",
    "    .labelNames(Array(\"class\", \"method\"): _*)\n",
    "    .linearBuckets(0.0, 0.2, 5)\n",
    "    .help(s\"Sample prometheus histogram\")\n",
    "    .register()"
   ]
  },
  {
   "cell_type": "code",
   "execution_count": 59,
   "metadata": {},
   "outputs": [
    {
     "data": {
      "text/plain": [
       "\u001b[36mrLayerHas\u001b[39m: \u001b[32mZLayer\u001b[39m[\u001b[32mAny\u001b[39m, \u001b[32mNothing\u001b[39m, \u001b[32mMetrics2\u001b[39m] = zio.ZLayer@45b810bf\n",
       "\u001b[36mrtReceiverhas\u001b[39m: \u001b[32mRuntime\u001b[39m.\u001b[32mManaged\u001b[39m[\u001b[32mMetrics2\u001b[39m with \u001b[32mConsole\u001b[39m] = zio.Runtime$Managed$$anon$1@57180842"
      ]
     },
     "execution_count": 59,
     "metadata": {},
     "output_type": "execute_result"
    }
   ],
   "source": [
    "val rLayerHas     = ZLayer.succeed[(Counter, Histogram)]((c, h)) >>> Metrics2.receiverHas\n",
    "val rtReceiverhas = Runtime.unsafeFromLayer(rLayerHas ++ Console.live)"
   ]
  },
  {
   "cell_type": "code",
   "execution_count": 63,
   "metadata": {},
   "outputs": [
    {
     "data": {
      "text/plain": [
       "\u001b[36mrLayer\u001b[39m: \u001b[32mLayer\u001b[39m[\u001b[32mNothing\u001b[39m, \u001b[32mMetrics2\u001b[39m] = zio.ZLayer@52dff936\n",
       "\u001b[36mrtReceiver\u001b[39m: \u001b[32mRuntime\u001b[39m.\u001b[32mManaged\u001b[39m[\u001b[32mMetrics2\u001b[39m with \u001b[32mConsole\u001b[39m] = zio.Runtime$Managed$$anon$1@4fb42b8b"
      ]
     },
     "execution_count": 63,
     "metadata": {},
     "output_type": "execute_result"
    }
   ],
   "source": [
    "val rLayer     = Metrics2.receiver(c, h)\n",
    "val rtReceiver = Runtime.unsafeFromLayer(rLayer ++ Console.live)"
   ]
  },
  {
   "cell_type": "code",
   "execution_count": 71,
   "metadata": {},
   "outputs": [
    {
     "name": "stdout",
     "output_type": "stream",
     "text": [
      "Metrics2\n",
      "\n"
     ]
    },
    {
     "data": {
      "text/plain": [
       "\u001b[36mprogram2\u001b[39m: \u001b[32mzio\u001b[39m.\u001b[32mZIO\u001b[39m[\u001b[32mMetrics2\u001b[39m with \u001b[32mConsole\u001b[39m, \u001b[32mThrowable\u001b[39m, \u001b[32mUnit\u001b[39m] = zio.ZIO$FlatMap@2b094571"
      ]
     },
     "execution_count": 71,
     "metadata": {},
     "output_type": "execute_result"
    }
   ],
   "source": [
    "val program2 = for {\n",
    "      m  <- RIO.environment[Metrics2]\n",
    "      _  <- putStrLn(\"Metrics2\")\n",
    "      _  <- m.get.inc(Array(\"RequestCounter\", \"get\"))\n",
    "      _  <- m.get.inc(Array(\"RequestCounter\", \"post\"))\n",
    "      _  <- m.get.inc(2.0, Array(\"LoginCounter\", \"login\"))\n",
    "      _  <- m.get.time(() => Thread.sleep(2000), Array(\"histogram\", \"get\"))\n",
    "      r  <- m.get.getRegistry()\n",
    "      s  <- writeT004(r)\n",
    "      _  <- putStrLn(s)\n",
    "    } yield ()\n",
    "\n",
    "//rtReceiverhas.unsafeRun(program2)\n",
    "//rtReceiver.unsafeRun(program2)\n",
    "rt2.unsafeRun(program2)"
   ]
  },
  {
   "cell_type": "code",
   "execution_count": null,
   "metadata": {},
   "outputs": [],
   "source": []
  }
 ],
 "metadata": {
  "kernelspec": {
   "display_name": "Scala",
   "language": "scala",
   "name": "scala"
  },
  "language_info": {
   "codemirror_mode": "text/x-scala",
   "file_extension": ".scala",
   "mimetype": "text/x-scala",
   "name": "scala",
   "nbconvert_exporter": "script",
   "version": "2.13.1"
  }
 },
 "nbformat": 4,
 "nbformat_minor": 2
}
