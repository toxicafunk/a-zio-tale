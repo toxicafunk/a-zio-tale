{
 "cells": [
  {
   "cell_type": "code",
   "execution_count": 15,
   "metadata": {
    "scrolled": true
   },
   "outputs": [
    {
     "data": {
      "text/plain": [
       "\u001b[32mimport \u001b[39m\u001b[36m$ivy.$                                 \n",
       "\u001b[39m\n",
       "\u001b[32mimport \u001b[39m\u001b[36m$ivy.$                                        \n",
       "\u001b[39m\n",
       "\u001b[32mimport \u001b[39m\u001b[36m$ivy.$                          \u001b[39m"
      ]
     },
     "execution_count": 15,
     "metadata": {},
     "output_type": "execute_result"
    }
   ],
   "source": [
    "import $ivy.`io.prometheus:simpleclient:0.8.1`\n",
    "import $ivy.`io.prometheus:simpleclient_common:0.8.1`\n",
    "import $ivy.`dev.zio::zio:1.0.0-RC18-2`"
   ]
  },
  {
   "cell_type": "code",
   "execution_count": 16,
   "metadata": {
    "scrolled": true
   },
   "outputs": [
    {
     "data": {
      "text/plain": [
       "\u001b[32mimport \u001b[39m\u001b[36mio.prometheus.client.CollectorRegistry\n",
       "\u001b[39m\n",
       "\u001b[32mimport \u001b[39m\u001b[36mio.prometheus.client.{ Counter, Histogram }\n",
       "\u001b[39m\n",
       "\u001b[32mimport \u001b[39m\u001b[36mio.prometheus.client.exporter.common.TextFormat\n",
       "\n",
       "\u001b[39m\n",
       "\u001b[36mc\u001b[39m: \u001b[32mCounter\u001b[39m = io.prometheus.client.Counter@79b3cb2a\n",
       "\u001b[36mh\u001b[39m: \u001b[32mHistogram\u001b[39m = io.prometheus.client.Histogram@44edcab0"
      ]
     },
     "execution_count": 16,
     "metadata": {},
     "output_type": "execute_result"
    }
   ],
   "source": [
    "// This is a Java Library\n",
    "import io.prometheus.client.CollectorRegistry\n",
    "import io.prometheus.client.{ Counter, Histogram }\n",
    "import io.prometheus.client.exporter.common.TextFormat\n",
    "\n",
    "CollectorRegistry.defaultRegistry.clear()\n",
    "\n",
    "// Spread operator => :_*\n",
    "val c = Counter\n",
    "    .build()\n",
    "    .name(\"PrometheusCounter\")\n",
    "    .labelNames(Array(\"class\", \"method\"): _*)\n",
    "    .help(s\"Sample prometheus counter\")\n",
    "    .register()\n",
    "\n",
    "val h = Histogram\n",
    "    .build()\n",
    "    .name(\"PrometheusHistogram\")\n",
    "    .labelNames(Array(\"class\", \"method\"): _*)\n",
    "    .linearBuckets(0.0, 0.2, 5)\n",
    "    .help(s\"Sample prometheus histogram\")\n",
    "    .register()"
   ]
  },
  {
   "cell_type": "code",
   "execution_count": null,
   "metadata": {
    "scrolled": true
   },
   "outputs": [],
   "source": [
    "c.labels(Array(\"Users\", \"getTotal\"):_*).inc()\n",
    "c.labels(Array(\"Users\", \"getUsers\"):_*).inc(3)\n",
    "\n",
    "h.labels(Array(\"Users\", \"getTotal\"):_*).observe(0.32)\n",
    "h.labels(Array(\"Users\", \"getUsers\"):_*).observe(0.45)"
   ]
  },
  {
   "cell_type": "code",
   "execution_count": 17,
   "metadata": {
    "scrolled": true
   },
   "outputs": [
    {
     "data": {
      "text/plain": [
       "\u001b[32mimport \u001b[39m\u001b[36mjava.io.StringWriter\n",
       "\n",
       "\u001b[39m\n",
       "defined \u001b[32mfunction\u001b[39m \u001b[36mwrite004\u001b[39m\n",
       "\u001b[36mres16_2\u001b[39m: \u001b[32mString\u001b[39m = \u001b[32m\"\"\"# HELP PrometheusCounter Sample prometheus counter\n",
       "# TYPE PrometheusCounter counter\n",
       "# HELP PrometheusHistogram Sample prometheus histogram\n",
       "# TYPE PrometheusHistogram histogram\n",
       "\"\"\"\u001b[39m"
      ]
     },
     "execution_count": 17,
     "metadata": {},
     "output_type": "execute_result"
    }
   ],
   "source": [
    "import java.io.StringWriter\n",
    "\n",
    "def write004(registry: CollectorRegistry) = {\n",
    "    val writer = new StringWriter\n",
    "    TextFormat.write004(writer, registry.metricFamilySamples)\n",
    "    writer.toString\n",
    "}\n",
    "\n",
    "write004(CollectorRegistry.defaultRegistry)"
   ]
  },
  {
   "cell_type": "code",
   "execution_count": 18,
   "metadata": {},
   "outputs": [
    {
     "name": "stdout",
     "output_type": "stream",
     "text": [
      "# HELP PrometheusCounter Sample prometheus counter\n",
      "# TYPE PrometheusCounter counter\n",
      "# HELP PrometheusHistogram Sample prometheus histogram\n",
      "# TYPE PrometheusHistogram histogram\n",
      "\n"
     ]
    },
    {
     "data": {
      "text/plain": [
       "\u001b[32mimport \u001b[39m\u001b[36mzio.console.putStrLn\n",
       "\u001b[39m\n",
       "\u001b[32mimport \u001b[39m\u001b[36mzio.console.Console\n",
       "\u001b[39m\n",
       "\u001b[32mimport \u001b[39m\u001b[36mzio.Runtime\n",
       "\u001b[39m\n",
       "\u001b[32mimport \u001b[39m\u001b[36mzio.Task\n",
       "\n",
       "\u001b[39m\n",
       "\u001b[36mwriteT004\u001b[39m: \u001b[32mCollectorRegistry\u001b[39m => \u001b[32mTask\u001b[39m[\u001b[32mString\u001b[39m] = ammonite.$sess.cmd17$Helper$$Lambda$3306/361739292@2b818cb4\n",
       "\u001b[36mexternalRegistry\u001b[39m: \u001b[32mTask\u001b[39m[\u001b[32mCollectorRegistry\u001b[39m] = zio.ZIO$EffectPartial@1f139bac\n",
       "\u001b[36mprogram\u001b[39m: \u001b[32mzio\u001b[39m.\u001b[32mZIO\u001b[39m[\u001b[32mAny\u001b[39m, \u001b[32mThrowable\u001b[39m, \u001b[32mString\u001b[39m] = zio.ZIO$FlatMap@73ab4d84\n",
       "\u001b[36mrt\u001b[39m: \u001b[32mRuntime\u001b[39m.\u001b[32mManaged\u001b[39m[\u001b[32mConsole\u001b[39m] = zio.Runtime$Managed$$anon$1@556eb3e6"
      ]
     },
     "execution_count": 18,
     "metadata": {},
     "output_type": "execute_result"
    }
   ],
   "source": [
    "import zio.console.putStrLn\n",
    "import zio.console.Console\n",
    "import zio.Runtime\n",
    "import zio.Task\n",
    "\n",
    "val writeT004: CollectorRegistry => Task[String] = registry => Task {\n",
    "    val writer = new StringWriter\n",
    "    TextFormat.write004(writer, registry.metricFamilySamples)\n",
    "    writer.toString\n",
    "}\n",
    "\n",
    "val externalRegistry = Task.effect(CollectorRegistry.defaultRegistry)\n",
    "\n",
    "val program = for {\n",
    "    r <- externalRegistry\n",
    "    s <- writeT004(r)\n",
    "} yield s\n",
    "\n",
    "val rt = Runtime.unsafeFromLayer(Console.live)\n",
    "\n",
    "rt.unsafeRun(program >>= (s => putStrLn(s)))"
   ]
  },
  {
   "cell_type": "code",
   "execution_count": 19,
   "metadata": {},
   "outputs": [
    {
     "data": {
      "text/plain": [
       "\u001b[32mimport \u001b[39m\u001b[36mzio.{Queue, UIO, URIO}\n",
       "\n",
       "\u001b[39m\n",
       "\u001b[36mqueue\u001b[39m: \u001b[32mUIO\u001b[39m[\u001b[32mQueue\u001b[39m[\u001b[32mString\u001b[39m]] = zio.ZIO$FlatMap@5024ce2c\n",
       "defined \u001b[32mfunction\u001b[39m \u001b[36msend\u001b[39m\n",
       "defined \u001b[32mfunction\u001b[39m \u001b[36msendAsync\u001b[39m\n",
       "defined \u001b[32mfunction\u001b[39m \u001b[36mlisten\u001b[39m"
      ]
     },
     "execution_count": 19,
     "metadata": {},
     "output_type": "execute_result"
    }
   ],
   "source": [
    "import zio.{Queue, UIO, URIO}\n",
    "\n",
    "val queue: UIO[Queue[String]] = Queue.bounded[String](10)\n",
    "\n",
    "def send(msg: String)(q: Queue[String]): URIO[Console, Unit] =\n",
    "  for {\n",
    "    _ <- putStrLn(s\"Sending... $msg\")\n",
    "    _ <- q.offer(msg)\n",
    "  } yield ()\n",
    "\n",
    "def sendAsync(msg: String)(q: Queue[String]): UIO[Unit] =\n",
    "  for {\n",
    "    _ <- q.offer(msg).fork\n",
    "  } yield ()\n",
    "\n",
    "def listen(q: Queue[String]): URIO[Console, Unit] =\n",
    "  for {\n",
    "      s <- q.poll\n",
    "      _ <- putStrLn(s\"Received $s\")\n",
    "  } yield ()"
   ]
  },
  {
   "cell_type": "code",
   "execution_count": null,
   "metadata": {
    "scrolled": false
   },
   "outputs": [],
   "source": [
    "val prog0 = for {\n",
    "    q <- queue\n",
    "    _ <- URIO.foreach(1 to 20)(i => send(s\"Number $i\")(q))\n",
    "} yield ()\n",
    "\n",
    "rt.unsafeRun(prog0)"
   ]
  },
  {
   "cell_type": "code",
   "execution_count": null,
   "metadata": {},
   "outputs": [],
   "source": [
    "val prog1 = for {\n",
    "    q <- queue\n",
    "    _ <- URIO.foreach(1 to 20)(i => sendAsync(s\"Number $i\")(q))\n",
    "    _ <- listen(q)\n",
    "} yield ()\n",
    "\n",
    "rt.unsafeRun(prog1)"
   ]
  },
  {
   "cell_type": "code",
   "execution_count": 20,
   "metadata": {},
   "outputs": [
    {
     "name": "stdout",
     "output_type": "stream",
     "text": [
      "Received Some(Number 1)\n",
      "Received Some(Number 2)\n",
      "Received Some(Number 3)\n",
      "Received Some(Number 4)\n",
      "Received Some(Number 5)\n",
      "Received Some(Number 6)\n",
      "Received Some(Number 7)\n",
      "Received Some(Number 8)\n",
      "Received Some(Number 9)\n",
      "Received Some(Number 10)\n",
      "Received Some(Number 11)\n",
      "Received Some(Number 12)\n",
      "Received Some(Number 13)\n",
      "Received Some(Number 14)\n",
      "Received Some(Number 16)\n",
      "Received Some(Number 17)\n",
      "Received Some(Number 18)\n",
      "Received Some(Number 19)\n",
      "Received Some(Number 15)\n",
      "Received Some(Number 20)\n",
      "Received None\n",
      "Nothing\n"
     ]
    },
    {
     "data": {
      "text/plain": [
       "\u001b[32mimport \u001b[39m\u001b[36mzio.Schedule\n",
       "\n",
       "\u001b[39m\n",
       "\u001b[36muntilNothing\u001b[39m: \u001b[32mSchedule\u001b[39m[\u001b[32mAny\u001b[39m, \u001b[32mString\u001b[39m, \u001b[32mString\u001b[39m] = zio.Schedule$$anon$18@5213d165\n",
       "defined \u001b[32mfunction\u001b[39m \u001b[36mlisten\u001b[39m\n",
       "\u001b[36mprog2\u001b[39m: \u001b[32mzio\u001b[39m.\u001b[32mZIO\u001b[39m[\u001b[32mConsole\u001b[39m, \u001b[32mNothing\u001b[39m, \u001b[32mString\u001b[39m] = zio.ZIO$FlatMap@3ff46a8f"
      ]
     },
     "execution_count": 20,
     "metadata": {},
     "output_type": "execute_result"
    }
   ],
   "source": [
    "import zio.Schedule\n",
    "\n",
    "val untilNothing = Schedule.doUntil[String](_ == \"Nothing\")\n",
    "\n",
    "def listen(q: Queue[String]): URIO[Console, String] = \n",
    "  for {\n",
    "      s <- q.poll\n",
    "      _ <- putStrLn(s\"Received $s\")\n",
    "  } yield s.getOrElse(\"Nothing\")\n",
    "\n",
    "val prog2 = for {\n",
    "    q <- queue\n",
    "    _ <- URIO.foreach(1 to 20)(i => sendAsync(s\"Number $i\")(q))\n",
    "    l <- listen(q).repeat(untilNothing)\n",
    "} yield l\n",
    "\n",
    "rt.unsafeRun(prog2 >>= (s => putStrLn(s)))"
   ]
  },
  {
   "cell_type": "code",
   "execution_count": 21,
   "metadata": {},
   "outputs": [
    {
     "name": "stdout",
     "output_type": "stream",
     "text": [
      "Received Some(Number 1)\n",
      "Received Some(Number 2)\n",
      "Received Some(Number 3)\n",
      "Received Some(Number 4)\n",
      "Received Some(Number 5)\n",
      "Result: Number 1\n",
      "Result: Number 2\n",
      "Result: Number 3\n",
      "Result: Number 4\n",
      "Result: Number 5\n"
     ]
    },
    {
     "data": {
      "text/plain": [
       "\u001b[32mimport \u001b[39m\u001b[36mzio.RIO\n",
       "\n",
       "\u001b[39m\n",
       "\u001b[36muntilNCollected\u001b[39m: \u001b[32mSchedule\u001b[39m[\u001b[32mAny\u001b[39m, \u001b[32mList\u001b[39m[\u001b[32mString\u001b[39m], \u001b[32mList\u001b[39m[\u001b[32mString\u001b[39m]] = zio.Schedule$$anon$18@eae0eca\n",
       "defined \u001b[32mfunction\u001b[39m \u001b[36mlisten\u001b[39m\n",
       "\u001b[36mprog3\u001b[39m: \u001b[32mzio\u001b[39m.\u001b[32mZIO\u001b[39m[\u001b[32mConsole\u001b[39m, \u001b[32mThrowable\u001b[39m, \u001b[32mList\u001b[39m[\u001b[32mString\u001b[39m]] = zio.ZIO$FlatMap@2e436a11\n",
       "\u001b[36mres20_4\u001b[39m: \u001b[32mList\u001b[39m[\u001b[32mUnit\u001b[39m] = \u001b[33mList\u001b[39m((), (), (), (), ())"
      ]
     },
     "execution_count": 21,
     "metadata": {},
     "output_type": "execute_result"
    }
   ],
   "source": [
    "import zio.RIO\n",
    "\n",
    "val untilNCollected = Schedule.doUntil[List[String]](_.size == 5)\n",
    "\n",
    "def listen(q: Queue[String]): RIO[Console, List[String]] = {\n",
    "  import scala.collection.mutable.ListBuffer\n",
    "  var collector = new ListBuffer[String]()\n",
    "  for {\n",
    "      s <- q.poll\n",
    "      _ <- putStrLn(s\"Received $s\")\n",
    "      if (s.isDefined)\n",
    "  } yield (collector += s.get).toList // safe cuz we filter on isDefined\n",
    "}\n",
    "\n",
    "val prog3 = for {\n",
    "    q <- queue\n",
    "    _ <- URIO.foreach(1 to 20)(i => sendAsync(s\"Number $i\")(q))\n",
    "    l <- listen(q).repeat(untilNCollected)\n",
    "} yield l\n",
    "\n",
    "rt.unsafeRun(prog3 >>= (l => RIO.foreach(l)(s => putStrLn(s\"Result: $s\"))))"
   ]
  },
  {
   "cell_type": "code",
   "execution_count": 22,
   "metadata": {},
   "outputs": [
    {
     "name": "stdout",
     "output_type": "stream",
     "text": [
      "Received Some(Number 1)\n",
      "Received Some(Number 2)\n",
      "Received Some(Number 3)\n",
      "Received Some(Number 4)\n"
     ]
    },
    {
     "ename": "",
     "evalue": "",
     "output_type": "error",
     "traceback": [
      "Interrupted!\n  java.lang.Object.wait(\u001b[32mNative Method\u001b[39m)\n  java.lang.Object.wait(\u001b[32mObject.java\u001b[39m:\u001b[32m502\u001b[39m)\n  zio.internal.OneShot.get(\u001b[32mOneShot.scala\u001b[39m:\u001b[32m79\u001b[39m)\n  zio.Runtime.unsafeRunSync(\u001b[32mRuntime.scala\u001b[39m:\u001b[32m82\u001b[39m)\n  zio.Runtime.unsafeRunSync$(\u001b[32mRuntime.scala\u001b[39m:\u001b[32m77\u001b[39m)\n  zio.Runtime$Managed$$anon$1.unsafeRunSync(\u001b[32mRuntime.scala\u001b[39m:\u001b[32m216\u001b[39m)\n  zio.Runtime.unsafeRun(\u001b[32mRuntime.scala\u001b[39m:\u001b[32m57\u001b[39m)\n  zio.Runtime.unsafeRun$(\u001b[32mRuntime.scala\u001b[39m:\u001b[32m56\u001b[39m)\n  zio.Runtime$Managed$$anon$1.unsafeRun(\u001b[32mRuntime.scala\u001b[39m:\u001b[32m216\u001b[39m)\n  ammonite.$sess.cmd21$Helper.<init>(\u001b[32mcmd21.sc\u001b[39m:\u001b[32m10\u001b[39m)\n  ammonite.$sess.cmd21$.<clinit>(\u001b[32mcmd21.sc\u001b[39m:\u001b[32m7\u001b[39m)"
     ]
    }
   ],
   "source": [
    "import zio.duration._\n",
    "\n",
    "val everyNSec = Schedule.spaced(2.seconds)\n",
    "val prog4 = for {\n",
    "    q <- queue\n",
    "    _ <- URIO.foreach(1 to 20)(i => sendAsync(s\"Number $i\")(q))\n",
    "    l <- listen(q).repeat(everyNSec)\n",
    "} yield l\n",
    "\n",
    "rt.unsafeRun(prog4.provideSomeLayer[Console](zio.clock.Clock.live))"
   ]
  },
  {
   "cell_type": "code",
   "execution_count": 23,
   "metadata": {},
   "outputs": [
    {
     "name": "stdout",
     "output_type": "stream",
     "text": [
      "Received Some(Number 1)\n",
      "Received Some(Number 2)\n",
      "Received Some(Number 3)\n",
      "Received Some(Number 4)\n",
      "Received Some(Number 5)\n"
     ]
    },
    {
     "data": {
      "text/plain": [
       "\u001b[32mimport \u001b[39m\u001b[36mzio.clock.Clock\n",
       "\u001b[39m\n",
       "\u001b[32mimport \u001b[39m\u001b[36mzio.duration._\n",
       "\n",
       "\u001b[39m\n",
       "\u001b[36meveryNSec\u001b[39m: \u001b[32mSchedule\u001b[39m[\u001b[32mClock\u001b[39m, \u001b[32mAny\u001b[39m, \u001b[32mInt\u001b[39m] = zio.Schedule$$anon$18@2dfd9bdd\n",
       "\u001b[36mrt\u001b[39m: \u001b[32mRuntime\u001b[39m.\u001b[32mManaged\u001b[39m[\u001b[32mConsole\u001b[39m with \u001b[32mClock\u001b[39m] = zio.Runtime$Managed$$anon$1@773b0db9\n",
       "\u001b[36meveryNSecUntilCollected\u001b[39m: \u001b[32mSchedule\u001b[39m[\u001b[32mClock\u001b[39m, \u001b[32mList\u001b[39m[\u001b[32mString\u001b[39m], (\u001b[32mList\u001b[39m[\u001b[32mString\u001b[39m], \u001b[32mInt\u001b[39m)] = zio.Schedule$$anon$1@6f2b5697\n",
       "\u001b[36mprog5\u001b[39m: \u001b[32mzio\u001b[39m.\u001b[32mZIO\u001b[39m[\u001b[32mConsole\u001b[39m with \u001b[32mClock\u001b[39m, \u001b[32mThrowable\u001b[39m, (\u001b[32mList\u001b[39m[\u001b[32mString\u001b[39m], \u001b[32mInt\u001b[39m)] = zio.ZIO$FlatMap@7168e0aa\n",
       "\u001b[36mres22_6\u001b[39m: (\u001b[32mList\u001b[39m[\u001b[32mString\u001b[39m], \u001b[32mInt\u001b[39m) = (\n",
       "  \u001b[33mList\u001b[39m(\u001b[32m\"Number 1\"\u001b[39m, \u001b[32m\"Number 2\"\u001b[39m, \u001b[32m\"Number 3\"\u001b[39m, \u001b[32m\"Number 4\"\u001b[39m, \u001b[32m\"Number 5\"\u001b[39m),\n",
       "  \u001b[32m4\u001b[39m\n",
       ")"
      ]
     },
     "execution_count": 23,
     "metadata": {},
     "output_type": "execute_result"
    }
   ],
   "source": [
    "import zio.clock.Clock\n",
    "import zio.duration._\n",
    "\n",
    "val everyNSec = Schedule.spaced(2.seconds)\n",
    "\n",
    "val rt = Runtime.unsafeFromLayer(Console.live ++ Clock.live)\n",
    "\n",
    "val everyNSecUntilCollected = untilNCollected && everyNSec\n",
    "\n",
    "val prog5 = for {\n",
    "    q <- queue\n",
    "    _ <- URIO.foreach(1 to 20)(i => sendAsync(s\"Number $i\")(q))\n",
    "    l <- listen(q).repeat(everyNSecUntilCollected)\n",
    "} yield l\n",
    "\n",
    "rt.unsafeRun(prog5)"
   ]
  },
  {
   "cell_type": "code",
   "execution_count": 36,
   "metadata": {},
   "outputs": [
    {
     "name": "stdout",
     "output_type": "stream",
     "text": [
      "Collector size = 0\n",
      "Received Some(Number 1)\n",
      "Received Some(Number 2)\n",
      "Received Some(Number 3)\n",
      "Received Some(Number 4)\n",
      "Received Some(Number 6)\n",
      "Received Some(Number 5)\n",
      "Collector current size: 5\n",
      "Collector size = 0\n",
      "Collector size = 0\n",
      "Received Some(Number 7)\n",
      "Collector current size: 5\n",
      "Collector size = 0\n",
      "Collector size = 0\n",
      "Received Some(Number 8)\n",
      "Collector current size: 5\n",
      "Collector size = 0\n",
      "Collector size = 0\n",
      "Received Some(Number 9)\n",
      "Collector current size: 5\n",
      "Collector size = 0\n",
      "Collector size = 0\n",
      "Received Some(Number 10)\n",
      "Collector current size: 5\n",
      "Collector size = 0\n",
      "Collector size = 0\n",
      "Received Some(Number 11)\n",
      "Collector current size: 5\n",
      "Collector size = 0\n",
      "Collector size = 0\n",
      "Received Some(Number 12)\n",
      "Collector current size: 5\n",
      "Collector size = 0\n",
      "Collector size = 0\n",
      "Received Some(Number 13)\n",
      "Collector current size: 5\n",
      "Collector size = 0\n",
      "Collector size = 0\n",
      "Received Some(Number 14)\n",
      "Collector current size: 5\n",
      "Collector size = 0\n",
      "Collector size = 0\n",
      "Received Some(Number 15)\n",
      "Collector current size: 5\n",
      "Collector size = 0\n",
      "Collector size = 0\n",
      "Received Some(Number 16)\n",
      "Collector current size: 5\n",
      "Collector size = 0\n",
      "Collector size = 0\n",
      "Received Some(Number 17)\n",
      "Collector current size: 5\n",
      "Collector size = 0\n",
      "Collector size = 0\n",
      "Received Some(Number 18)\n",
      "Collector current size: 5\n",
      "Collector size = 0\n",
      "Collector size = 0\n",
      "Received Some(Number 19)\n",
      "Collector current size: 5\n",
      "Collector size = 0\n",
      "Collector size = 0\n",
      "Received Some(Number 20)\n",
      "Collector current size: 5\n",
      "Collector size = 0\n",
      "Collector size = 0\n",
      "Received None\n"
     ]
    },
    {
     "ename": "",
     "evalue": "",
     "output_type": "error",
     "traceback": [
      "\u001b[31mzio.FiberFailure: Fiber failed.\nA checked error was not handled.\njava.util.NoSuchElementException: The value doesn't satisfy the predicate\n\tat zio.ZIO$ZIOWithFilterOps$.$anonfun$withFilter$extension$1(ZIO.scala:3285)\n\tat zio.ZIO$.$anonfun$fail$1(ZIO.scala:2300)\n\tat zio.internal.FiberContext.evaluateNow(FiberContext.scala:391)\n\tat zio.internal.FiberContext.$anonfun$evaluateLater$1(FiberContext.scala:687)\n\tat java.util.concurrent.ThreadPoolExecutor.runWorker(ThreadPoolExecutor.java:1149)\n\tat java.util.concurrent.ThreadPoolExecutor$Worker.run(ThreadPoolExecutor.java:624)\n\tat java.lang.Thread.run(Thread.java:748)\n\nFiber:Id(1589582248917,549) was supposed to continue to:\n  a future continuation at zio.ZIO.repeatOrElse(ZIO.scala:1330)\n\nFiber:Id(1589582248917,549) execution trace:\n  at zio.ZIO.repeatOrElseEither(ZIO.scala:1352)\n  at zio.ZIO$ZIOWithFilterOps$.withFilter(ZIO.scala:3284)\n  at zio.console.package$Console$Service$$anon$1.putStrLn(package.scala:57)\n  at zio.console.package$.putStrLn(package.scala:101)\n  at ammonite.$sess.cmd35$Helper.listen(cmd35.sc:6)\n  at zio.ZQueue.poll(ZQueue.scala:309)\n  at zio.ZQueue$$anon$8.takeUpTo(ZQueue.scala:626)\n  at zio.ZQueue$$anon$8.takeUpTo(ZQueue.scala:622)\n  at zio.ZQueue$$anon$8.takeUpTo(ZQueue.scala:619)\n  at zio.ZQueue$$anon$8.checkShutdownState(ZQueue.scala:495)\n  at zio.Promise.poll(Promise.scala:175)\n  at zio.Promise.poll(Promise.scala:175)\n  at zio.ZIO$.effectSuspendTotal(ZIO.scala:2260)\n  at zio.ZIO.repeatOrElseEither(ZIO.scala:1351)\n  at zio.Schedule.addDelayM(Schedule.scala:184)\n  at zio.internal.FiberContext$InterruptExit$.apply(FiberContext.scala:155)\n  at zio.internal.FiberContext$InterruptExit$.apply(FiberContext.scala:148)\n  at zio.ZIO.onInterrupt(ZIO.scala:902)\n  at zio.ZIO.onInterrupt(ZIO.scala:902)\n  at zio.internal.FiberContext$InterruptExit$.apply(FiberContext.scala:148)\n  at zio.ZIO$._IdentityFn(ZIO.scala:3224)\n  at zio.clock.package$Clock$Service$$anon$1.sleep(package.scala:45)\n  at zio.ZIO$.effectAsyncInterrupt(ZIO.scala:2193)\n  at zio.ZIO$.effectAsyncInterrupt(ZIO.scala:2193)\n  at zio.clock.package$.sleep(package.scala:92)\n  at zio.Schedule.addDelayM(Schedule.scala:184)\n  at zio.Schedule.addDelayM(Schedule.scala:183)\n  at zio.ZIO.repeatOrElseEither(ZIO.scala:1353)\n  at ammonite.$sess.cmd35$Helper.listen(cmd35.sc:6)\n  at zio.ZIO$ZIOWithFilterOps$.withFilter(ZIO.scala:3284)\n  at zio.console.package$Console$Service$$anon$1.putStrLn(package.scala:57)\n  at zio.console.package$.putStrLn(package.scala:101)\n  at ammonite.$sess.cmd35$Helper.listen(cmd35.sc:6)\n  at zio.ZQueue.poll(ZQueue.scala:309)\n  at zio.ZQueue$$anon$8.takeUpTo(ZQueue.scala:626)\n  at zio.ZQueue$$anon$8.takeUpTo(ZQueue.scala:622)\n  at zio.ZQueue$$anon$8.takeUpTo(ZQueue.scala:619)\n  at zio.ZQueue$$anon$8.checkShutdownState(ZQueue.scala:495)\n  at zio.Promise.poll(Promise.scala:175)\n  at zio.Promise.poll(Promise.scala:175)\n  at zio.ZIO$.effectSuspendTotal(ZIO.scala:2260)\n  at zio.ZIO.repeatOrElseEither(ZIO.scala:1351)\n  at zio.Schedule.addDelayM(Schedule.scala:184)\n  at zio.internal.FiberContext$InterruptExit$.apply(FiberContext.scala:155)\n  at zio.internal.FiberContext$InterruptExit$.apply(FiberContext.scala:148)\n  at zio.ZIO.onInterrupt(ZIO.scala:902)\n  at zio.ZIO.onInterrupt(ZIO.scala:902)\n  at zio.internal.FiberContext$InterruptExit$.apply(FiberContext.scala:148)\n  at zio.ZIO$._IdentityFn(ZIO.scala:3224)\n  at zio.clock.package$Clock$Service$$anon$1.sleep(package.scala:45)\n  at zio.ZIO$.effectAsyncInterrupt(ZIO.scala:2193)\n  at zio.ZIO$.effectAsyncInterrupt(ZIO.scala:2193)\n  at zio.clock.package$.sleep(package.scala:92)\n  at zio.Schedule.addDelayM(Schedule.scala:184)\n  at zio.Schedule.addDelayM(Schedule.scala:183)\n  at zio.ZIO.repeatOrElseEither(ZIO.scala:1353)\n  at ammonite.$sess.cmd35$Helper.listen(cmd35.sc:6)\n  at zio.ZIO$ZIOWithFilterOps$.withFilter(ZIO.scala:3284)\n  at zio.console.package$Console$Service$$anon$1.putStrLn(package.scala:57)\n  at zio.console.package$.putStrLn(package.scala:101)\n  at ammonite.$sess.cmd35$Helper.listen(cmd35.sc:6)\n  at zio.ZQueue.poll(ZQueue.scala:309)\n  at zio.ZQueue$$anon$8.takeUpTo(ZQueue.scala:626)\n  at zio.ZQueue$$anon$8.takeUpTo(ZQueue.scala:622)\n  at zio.ZQueue$$anon$8.takeUpTo(ZQueue.scala:619)\n  at zio.ZQueue$$anon$8.checkShutdownState(ZQueue.scala:495)\n  at zio.Promise.poll(Promise.scala:175)\n  at zio.Promise.poll(Promise.scala:175)\n  at zio.ZIO$.effectSuspendTotal(ZIO.scala:2260)\n  at zio.ZIO.repeatOrElseEither(ZIO.scala:1351)\n  at zio.Schedule.addDelayM(Schedule.scala:184)\n  at zio.internal.FiberContext$InterruptExit$.apply(FiberContext.scala:155)\n  at zio.internal.FiberContext$InterruptExit$.apply(FiberContext.scala:148)\n  at zio.ZIO.onInterrupt(ZIO.scala:902)\n  at zio.ZIO.onInterrupt(ZIO.scala:902)\n  at zio.internal.FiberContext$InterruptExit$.apply(FiberContext.scala:148)\n  at zio.ZIO$._IdentityFn(ZIO.scala:3224)\n  at zio.clock.package$Clock$Service$$anon$1.sleep(package.scala:45)\n  at zio.ZIO$.effectAsyncInterrupt(ZIO.scala:2193)\n  at zio.ZIO$.effectAsyncInterrupt(ZIO.scala:2193)\n  at zio.clock.package$.sleep(package.scala:92)\n  at zio.Schedule.addDelayM(Schedule.scala:184)\n  at zio.Schedule.addDelayM(Schedule.scala:183)\n  at zio.ZIO.repeatOrElseEither(ZIO.scala:1353)\n  at ammonite.$sess.cmd35$Helper.listen(cmd35.sc:6)\n  at zio.ZIO$ZIOWithFilterOps$.withFilter(ZIO.scala:3284)\n  at zio.console.package$Console$Service$$anon$1.putStrLn(package.scala:57)\n  at zio.console.package$.putStrLn(package.scala:101)\n  at ammonite.$sess.cmd35$Helper.listen(cmd35.sc:6)\n  at zio.ZQueue.poll(ZQueue.scala:309)\n  at zio.ZQueue$$anon$8.takeUpTo(ZQueue.scala:626)\n  at zio.ZQueue$$anon$8.takeUpTo(ZQueue.scala:622)\n  at zio.ZQueue$$anon$8.takeUpTo(ZQueue.scala:619)\n  at zio.ZQueue$$anon$8.checkShutdownState(ZQueue.scala:495)\n  at zio.Promise.poll(Promise.scala:175)\n  at zio.Promise.poll(Promise.scala:175)\n  at zio.ZIO$.effectSuspendTotal(ZIO.scala:2260)\n  at zio.ZIO.repeatOrElseEither(ZIO.scala:1351)\n  at zio.Schedule.addDelayM(Schedule.scala:184)\n  at zio.internal.FiberContext$InterruptExit$.apply(FiberContext.scala:155)\n\nFiber:Id(1589582248917,549) was spawned by:\n\nFiber:Id(1589582248917,547) was supposed to continue to: <empty trace>\n\nFiber:Id(1589582248917,547) ZIO Execution trace: <empty trace>\n\nFiber:Id(1589582248917,547) was spawned by:\n\nFiber:Id(1589582248912,526) was supposed to continue to:\n  a future continuation at zio.ZIO.zipWithPar(ZIO.scala:1860)\n  a future continuation at ammonite.$sess.cmd35$Helper.prog6(cmd35.sc:18)\n  a future continuation at ammonite.$sess.cmd35$Helper.res35_2(cmd35.sc:20)\n\nFiber:Id(1589582248912,526) execution trace:\n  at zio.ZIO.zipWithPar(ZIO.scala:1859)\n  at zio.ZIO$.fiberId(ZIO.scala:2305)\n  at zio.ZIO$.descriptor(ZIO.scala:2089)\n  at ammonite.$sess.cmd35$Helper.prog6(cmd35.sc:16)\n  at zio.ZIO$.foreach(ZIO.scala:2364)\n  at zio.ZIO$.foreach(ZIO.scala:2364)\n  at zio.ZIO$.foreach(ZIO.scala:2364)\n  at zio.ZIO$.foreach(ZIO.scala:2364)\n  at zio.ZIO$.foreach(ZIO.scala:2364)\n  at zio.ZIO$.foreach(ZIO.scala:2364)\n\nFiber:Id(1589582248912,526) was spawned by: <empty trace>\u001b[39m\n"
     ]
    }
   ],
   "source": [
    "def listen(q: Queue[String]): RIO[Console, List[String]] = {\n",
    "  import scala.collection.mutable.ListBuffer\n",
    "  var collector = new ListBuffer[String]()\n",
    "  for {\n",
    "      s <- q.poll\n",
    "      _ <- putStrLn(s\"Received $s\")\n",
    "      if (s.isDefined)\n",
    "  } yield {\n",
    "      if (collector.size == 5) collector.clear()\n",
    "      (collector += s.get).toList\n",
    "  }\n",
    "}\n",
    "\n",
    "val prog6 = for {\n",
    "    q <- queue\n",
    "    _ <- URIO.foreach(1 to 20)(i => sendAsync(s\"Number $i\")(q))\n",
    "    l <- listen(q).repeat(untilNCollected) <& listen(q).repeat(everyNSec)\n",
    "} yield l\n",
    "\n",
    "rt.unsafeRun(prog6)"
   ]
  },
  {
   "cell_type": "code",
   "execution_count": 37,
   "metadata": {},
   "outputs": [
    {
     "data": {
      "text/plain": [
       "\u001b[32mimport \u001b[39m\u001b[36mzio.{ Has, Layer, ZLayer }\n",
       "\u001b[39m\n",
       "\u001b[32mimport \u001b[39m\u001b[36mzio.{ RIO, Task }\n",
       "\n",
       "\u001b[39m\n",
       "defined \u001b[32mtype\u001b[39m \u001b[36mMetrics\u001b[39m\n",
       "defined \u001b[32mobject\u001b[39m \u001b[36mMetrics\u001b[39m"
      ]
     },
     "execution_count": 37,
     "metadata": {},
     "output_type": "execute_result"
    }
   ],
   "source": [
    "import zio.{ Has, Layer, ZLayer }\n",
    "import zio.{ RIO, Task }\n",
    "\n",
    "type Metrics = Has[Metrics.Service]\n",
    "\n",
    "object Metrics {\n",
    "    trait Service {\n",
    "      def getRegistry(): Task[CollectorRegistry]\n",
    "\n",
    "      def inc(tags: Array[String]): Task[Unit]\n",
    "\n",
    "      def inc(amount: Double, tags: Array[String]): Task[Unit]\n",
    "\n",
    "      def time(f: () => Unit, tags: Array[String]): Task[Double]\n",
    "\n",
    "    }\n",
    "\n",
    "    val live: Layer[Nothing, Metrics] = ZLayer.succeed(new Service {\n",
    "\n",
    "      private val (myCounter, myHistogram) = {\n",
    "          val c = Counter\n",
    "            .build()\n",
    "            .name(\"LayerCounter\")\n",
    "            .labelNames(Array(\"class\", \"method\"): _*)\n",
    "            .help(s\"Prometheus counter inside a layer\")\n",
    "            .register()\n",
    "\n",
    "        val h = Histogram\n",
    "            .build()\n",
    "            .name(\"LayerHistogram\")\n",
    "            .labelNames(Array(\"class\", \"method\"): _*)\n",
    "            .linearBuckets(0.0, 0.2, 5)\n",
    "            .help(s\"Prometheus histogram inside a layer\")\n",
    "            .register()\n",
    "          \n",
    "          (c, h)\n",
    "      }\n",
    "\n",
    "      def getRegistry(): Task[CollectorRegistry] =\n",
    "        Task.effect(CollectorRegistry.defaultRegistry)\n",
    "\n",
    "      def inc(tags: Array[String]): zio.Task[Unit] =\n",
    "        inc(1.0, tags)\n",
    "\n",
    "      def inc(amount: Double, tags: Array[String]): Task[Unit] =\n",
    "        Task(myCounter.labels(tags:_*)inc(amount))\n",
    "\n",
    "      def time(f: () => Unit, tags: Array[String]): Task[Double] = Task {\n",
    "          val t = myHistogram.labels(tags: _*).startTimer()\n",
    "          f()\n",
    "          t.observeDuration()\n",
    "      }\n",
    "    })\n",
    "}"
   ]
  },
  {
   "cell_type": "code",
   "execution_count": 38,
   "metadata": {},
   "outputs": [
    {
     "data": {
      "text/plain": [
       "\u001b[36mprogram1\u001b[39m: \u001b[32mzio\u001b[39m.\u001b[32mZIO\u001b[39m[\u001b[32mMetrics\u001b[39m with \u001b[32mConsole\u001b[39m, \u001b[32mThrowable\u001b[39m, \u001b[32mUnit\u001b[39m] = zio.ZIO$FlatMap@7f4751a5"
      ]
     },
     "execution_count": 38,
     "metadata": {},
     "output_type": "execute_result"
    }
   ],
   "source": [
    "val program1 = for {\n",
    "      m  <- RIO.environment[Metrics]\n",
    "      _  <- putStrLn(\"Metrics\")\n",
    "      r  <- m.get.getRegistry()\n",
    "      _  <- m.get.inc(Array(\"RequestCounter\", \"get\"))\n",
    "      _  <- m.get.inc(Array(\"RequestCounter\", \"post\"))\n",
    "      _  <- m.get.inc(2.0, Array(\"LoginCounter\", \"login\"))\n",
    "      _  <- m.get.time(() => Thread.sleep(2000), Array(\"histogram\", \"get\"))\n",
    "      s  <- writeT004(r)\n",
    "      _  <- putStrLn(s)\n",
    "    } yield ()"
   ]
  },
  {
   "cell_type": "code",
   "execution_count": null,
   "metadata": {},
   "outputs": [],
   "source": [
    "CollectorRegistry.defaultRegistry.clear()\n",
    "rt.unsafeRun(program1.provideSomeLayer[Console](Metrics.live))"
   ]
  },
  {
   "cell_type": "code",
   "execution_count": null,
   "metadata": {},
   "outputs": [],
   "source": [
    "type Metrics2 = Has[Metrics2.Service]\n",
    "\n",
    "object Metrics2 {\n",
    "    trait Service {\n",
    "      def getRegistry(): Task[CollectorRegistry]\n",
    "\n",
    "      def inc(tags: Array[String]): Task[Unit]\n",
    "\n",
    "      def inc(amount: Double, tags: Array[String]): Task[Unit]\n",
    "\n",
    "      def time(f: () => Unit, tags: Array[String]): Task[Double]\n",
    "\n",
    "    }\n",
    "\n",
    "    val receiver: (Counter, Histogram) => Layer[Nothing, Metrics2] = \n",
    "    (myCounter, myHistogram) => ZLayer.succeed(new Service {\n",
    "\n",
    "      def getRegistry(): Task[CollectorRegistry] =\n",
    "        Task.effect(CollectorRegistry.defaultRegistry)\n",
    "\n",
    "      def inc(tags: Array[String]): zio.Task[Unit] =\n",
    "        inc(1.0, tags)\n",
    "\n",
    "      def inc(amount: Double, tags: Array[String]): Task[Unit] =\n",
    "        Task(myCounter.labels(tags:_*)inc(amount))\n",
    "\n",
    "      def time(f: () => Unit, tags: Array[String]): Task[Double] = Task {\n",
    "          val t = myHistogram.labels(tags: _*).startTimer()\n",
    "          f()\n",
    "          t.observeDuration()\n",
    "      }\n",
    "    })\n",
    "    \n",
    "    val receiverHas: ZLayer[Has[(Counter, Histogram)], Nothing, Metrics2] =\n",
    "      ZLayer.fromFunction[Has[(Counter, Histogram)], Metrics2.Service](\n",
    "        tup => new Service {\n",
    "            def getRegistry(): Task[CollectorRegistry] =\n",
    "              Task.effect(CollectorRegistry.defaultRegistry)\n",
    "\n",
    "            def inc(tags: Array[String]): zio.Task[Unit] =\n",
    "              inc(1.0, tags)\n",
    "\n",
    "            def inc(amount: Double, tags: Array[String]): Task[Unit] =\n",
    "              Task(tup.get._1.labels(tags:_*)inc(amount))\n",
    "\n",
    "            def time(f: () => Unit, tags: Array[String]): Task[Double] = Task {\n",
    "              val t = tup.get._2.labels(tags: _*).startTimer()\n",
    "              f()\n",
    "              t.observeDuration()\n",
    "            }\n",
    "          }\n",
    "      )\n",
    "}"
   ]
  },
  {
   "cell_type": "code",
   "execution_count": null,
   "metadata": {},
   "outputs": [],
   "source": [
    "CollectorRegistry.defaultRegistry.clear()"
   ]
  },
  {
   "cell_type": "code",
   "execution_count": null,
   "metadata": {},
   "outputs": [],
   "source": [
    "val c = Counter\n",
    "    .build()\n",
    "    .name(\"PrometheusCounter\")\n",
    "    .labelNames(Array(\"class\", \"method\"): _*)\n",
    "    .help(s\"Sample prometheus counter\")\n",
    "    .register()\n",
    "\n",
    "val h = Histogram\n",
    "    .build()\n",
    "    .name(\"PrometheusHistogram\")\n",
    "    .labelNames(Array(\"class\", \"method\"): _*)\n",
    "    .linearBuckets(0.0, 0.2, 5)\n",
    "    .help(s\"Sample prometheus histogram\")\n",
    "    .register()"
   ]
  },
  {
   "cell_type": "code",
   "execution_count": null,
   "metadata": {},
   "outputs": [],
   "source": [
    "val rLayerHas     = ZLayer.succeed[(Counter, Histogram)]((c, h)) >>> Metrics2.receiverHas\n",
    "val rtReceiverhas = Runtime.unsafeFromLayer(rLayerHas ++ Console.live)"
   ]
  },
  {
   "cell_type": "code",
   "execution_count": null,
   "metadata": {},
   "outputs": [],
   "source": [
    "val rLayer     = Metrics2.receiver(c, h)\n",
    "val rtReceiver = Runtime.unsafeFromLayer(rLayer ++ Console.live)"
   ]
  },
  {
   "cell_type": "code",
   "execution_count": null,
   "metadata": {},
   "outputs": [],
   "source": [
    "val program2 = for {\n",
    "      m  <- RIO.environment[Metrics2]\n",
    "      _  <- putStrLn(\"Metrics2\")\n",
    "      _  <- m.get.inc(Array(\"RequestCounter\", \"get\"))\n",
    "      _  <- m.get.inc(Array(\"RequestCounter\", \"post\"))\n",
    "      _  <- m.get.inc(2.0, Array(\"LoginCounter\", \"login\"))\n",
    "      _  <- m.get.time(() => Thread.sleep(2000), Array(\"histogram\", \"get\"))\n",
    "      r  <- m.get.getRegistry()\n",
    "      s  <- writeT004(r)\n",
    "      _  <- putStrLn(s)\n",
    "    } yield ()\n",
    "\n",
    "rtReceiverhas.unsafeRun(program2)\n",
    "//rtReceiver.unsafeRun(program2)"
   ]
  },
  {
   "cell_type": "code",
   "execution_count": null,
   "metadata": {},
   "outputs": [],
   "source": []
  }
 ],
 "metadata": {
  "kernelspec": {
   "display_name": "Scala",
   "language": "scala",
   "name": "scala"
  },
  "language_info": {
   "codemirror_mode": "text/x-scala",
   "file_extension": ".scala",
   "mimetype": "text/x-scala",
   "name": "scala",
   "nbconvert_exporter": "script",
   "version": "2.13.1"
  }
 },
 "nbformat": 4,
 "nbformat_minor": 2
}
