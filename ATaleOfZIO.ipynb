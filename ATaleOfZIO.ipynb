{
 "cells": [
  {
   "cell_type": "markdown",
   "metadata": {},
   "source": [
    "# Table of Contents\n",
    "\n",
    "1.  [ZIO](#org3312281)\n",
    "    1.  [Life after Typeclasses](#orge41c864)\n",
    "    2.  [In JDG&rsquo;s words](#org6f4f7ba)\n",
    "    3.  [A Functional Effect](#orgd9ef2f5)\n",
    "        1.  [An immutable, type-safe, tree-like data structure that models procedural effects.](#org80bb473)\n",
    "        2.  [ReaderT Design Pattern](#orgb99ac5e)\n",
    "        3.  [As Effect Wrapper](#org3419025)\n",
    "        4.  [As Concurrency Framework](#orgab1c330)\n",
    "2.  [ZLayer](#orgf36bf9a)\n",
    "    1.  [`Has` is a type level map.](#org80935e9)\n",
    "    2.  [How to create them](#org145560c)\n",
    "    3.  [A ZLayer that takes input](#org7d9a2e0)\n",
    "3.  [zio-test](#orge161833)\n",
    "    1.  [Intro](#org47c1454)\n",
    "    2.  [TestClock](#org3275b26)\n",
    "4.  [ZIO Lock-in](#org6360a37)\n",
    "\n",
    "\n",
    "<a id=\"org3312281\"></a>\n",
    "\n",
    "# ZIO\n",
    "\n",
    "\n",
    "<a id=\"orge41c864\"></a>\n",
    "\n",
    "## Life after Typeclasses\n",
    "\n",
    "\n",
    "* What to do with no monad-support\n",
    "* What would Scala do?\n",
    "* [In JDG&rsquo;s words](https://degoes.net/articles/zio-history)\n",
    "\n",
    "<a id=\"orgd9ef2f5\"></a>\n",
    "\n",
    "## A Functional Effect\n",
    "\n",
    "\n",
    "<a id=\"org80bb473\"></a>\n",
    "\n",
    "### An immutable, type-safe, tree-like data structure that models procedural effects.\n",
    "\n",
    "    ZIO[R, E, A] ~> R => Either[E, A]\n",
    "\n",
    "Except `R` now has `Layer` s and uses the `Has` typeclass trick\n",
    "\n",
    "\n",
    "<a id=\"orgb99ac5e\"></a>\n",
    "\n",
    "### [ReaderT Design Pattern](https://www.fpcomplete.com/blog/2017/06/readert-design-pattern)\n"
   ]
  },
  {
   "cell_type": "code",
   "execution_count": 1,
   "metadata": {
    "scrolled": true
   },
   "outputs": [
    {
     "data": {
      "text/plain": [
       "\u001b[32mimport \u001b[39m\u001b[36m$ivy.$                                 \n",
       "\u001b[39m\n",
       "\u001b[32mimport \u001b[39m\u001b[36m$ivy.$                                        \n",
       "\u001b[39m\n",
       "\u001b[32mimport \u001b[39m\u001b[36m$ivy.$                          \u001b[39m"
      ]
     },
     "execution_count": 1,
     "metadata": {},
     "output_type": "execute_result"
    }
   ],
   "source": [
    "import $ivy.`io.prometheus:simpleclient:0.8.1`\n",
    "import $ivy.`io.prometheus:simpleclient_common:0.8.1`\n",
    "import $ivy.`dev.zio::zio:1.0.0-RC18-2`"
   ]
  },
  {
   "cell_type": "markdown",
   "metadata": {},
   "source": [
    "<a id=\"org419025\"></a>\n",
    "\n",
    "### As Effect Wrapper\n",
    "\n",
    "Let&rsquo;s use the Prometheus Metrics Library as an example. Using this Java library in Scala looks like this:"
   ]
  },
  {
   "cell_type": "code",
   "execution_count": 2,
   "metadata": {
    "scrolled": true
   },
   "outputs": [
    {
     "data": {
      "text/plain": [
       "\u001b[32mimport \u001b[39m\u001b[36mio.prometheus.client.CollectorRegistry\n",
       "\u001b[39m\n",
       "\u001b[32mimport \u001b[39m\u001b[36mio.prometheus.client.{ Counter, Histogram }\n",
       "\u001b[39m\n",
       "\u001b[32mimport \u001b[39m\u001b[36mio.prometheus.client.exporter.common.TextFormat\n",
       "\n",
       "\u001b[39m\n",
       "\u001b[36mc\u001b[39m: \u001b[32mCounter\u001b[39m = io.prometheus.client.Counter@4fafc8a4\n",
       "\u001b[36mh\u001b[39m: \u001b[32mHistogram\u001b[39m = io.prometheus.client.Histogram@3e1880de"
      ]
     },
     "execution_count": 2,
     "metadata": {},
     "output_type": "execute_result"
    }
   ],
   "source": [
    "// This is a Java Library\n",
    "import io.prometheus.client.CollectorRegistry\n",
    "import io.prometheus.client.{ Counter, Histogram }\n",
    "import io.prometheus.client.exporter.common.TextFormat\n",
    "\n",
    "CollectorRegistry.defaultRegistry.clear()\n",
    "\n",
    "// Spread operator => :_*\n",
    "val c = Counter\n",
    "    .build()\n",
    "    .name(\"PrometheusCounter\")\n",
    "    .labelNames(Array(\"class\", \"method\"): _*)\n",
    "    .help(s\"Sample prometheus counter\")\n",
    "    .register()\n",
    "\n",
    "val h = Histogram\n",
    "    .build()\n",
    "    .name(\"PrometheusHistogram\")\n",
    "    .labelNames(Array(\"class\", \"method\"): _*)\n",
    "    .linearBuckets(0.0, 0.2, 5)\n",
    "    .help(s\"Sample prometheus histogram\")\n",
    "    .register()"
   ]
  },
  {
   "cell_type": "markdown",
   "metadata": {},
   "source": [
    "`register()` without arguments uses the default `Collectorregistry`.\n",
    "If we declare **labels** on building the metrics, then we ****NEED**** to pass the **\\*exact same number of labels** when using the respective metric.\n",
    "\n",
    "\n",
    "\n"
   ]
  },
  {
   "cell_type": "code",
   "execution_count": 3,
   "metadata": {
    "scrolled": true
   },
   "outputs": [],
   "source": [
    "c.labels(Array(\"Users\", \"getTotal\"):_*).inc()\n",
    "c.labels(Array(\"Users\", \"getUsers\"):_*).inc(3)\n",
    "\n",
    "h.labels(Array(\"Users\", \"getTotal\"):_*).observe(0.32)\n",
    "h.labels(Array(\"Users\", \"getUsers\"):_*).observe(0.45)"
   ]
  },
  {
   "cell_type": "markdown",
   "metadata": {},
   "source": [
    "To test its usage we can write a simple function that writes the **Registry** in the correct Prometheus format:"
   ]
  },
  {
   "cell_type": "code",
   "execution_count": 4,
   "metadata": {
    "scrolled": true
   },
   "outputs": [
    {
     "data": {
      "text/plain": [
       "\u001b[32mimport \u001b[39m\u001b[36mjava.io.StringWriter\n",
       "\n",
       "\u001b[39m\n",
       "defined \u001b[32mfunction\u001b[39m \u001b[36mwrite004\u001b[39m\n",
       "\u001b[36mres3_2\u001b[39m: \u001b[32mString\u001b[39m = \u001b[32m\"\"\"# HELP PrometheusHistogram Sample prometheus histogram\n",
       "# TYPE PrometheusHistogram histogram\n",
       "PrometheusHistogram_bucket{class=\"Users\",method=\"getTotal\",le=\"0.0\",} 0.0\n",
       "PrometheusHistogram_bucket{class=\"Users\",method=\"getTotal\",le=\"0.2\",} 0.0\n",
       "PrometheusHistogram_bucket{class=\"Users\",method=\"getTotal\",le=\"0.4\",} 1.0\n",
       "PrometheusHistogram_bucket{class=\"Users\",method=\"getTotal\",le=\"0.6000000000000001\",} 1.0\n",
       "PrometheusHistogram_bucket{class=\"Users\",method=\"getTotal\",le=\"0.8\",} 1.0\n",
       "PrometheusHistogram_bucket{class=\"Users\",method=\"getTotal\",le=\"+Inf\",} 1.0\n",
       "PrometheusHistogram_count{class=\"Users\",method=\"getTotal\",} 1.0\n",
       "PrometheusHistogram_sum{class=\"Users\",method=\"getTotal\",} 0.32\n",
       "PrometheusHistogram_bucket{class=\"Users\",method=\"getUsers\",le=\"0.0\",} 0.0\n",
       "PrometheusHistogram_bucket{class=\"Users\",method=\"getUsers\",le=\"0.2\",} 0.0\n",
       "PrometheusHistogram_bucket{class=\"Users\",method=\"getUsers\",le=\"0.4\",} 0.0\n",
       "PrometheusHistogram_bucket{class=\"Users\",method=\"getUsers\",le=\"0.6000000000000001\",} 1.0\n",
       "PrometheusHistogram_bucket{class=\"Users\",method=\"getUsers\",le=\"0.8\",} 1.0\n",
       "PrometheusHistogram_bucket{class=\"Users\",method=\"getUsers\",le=\"+Inf\",} 1.0\n",
       "PrometheusHistogram_count{class=\"Users\",method=\"getUsers\",} 1.0\n",
       "PrometheusHistogram_sum{class=\"Users\",method=\"getUsers\",} 0.45\n",
       "# HELP PrometheusCounter Sample prometheus counter\n",
       "# TYPE PrometheusCounter counter\n",
       "PrometheusCounter{class=\"Users\",method=\"getTotal\",} 1.0\n",
       "PrometheusCounter{class=\"Users\",method=\"getUsers\",} 3.0\n",
       "\"\"\"\u001b[39m"
      ]
     },
     "execution_count": 4,
     "metadata": {},
     "output_type": "execute_result"
    }
   ],
   "source": [
    "import java.io.StringWriter\n",
    "\n",
    "def write004(registry: CollectorRegistry) = {\n",
    "    val writer = new StringWriter\n",
    "    TextFormat.write004(writer, registry.metricFamilySamples)\n",
    "    writer.toString\n",
    "}\n",
    "\n",
    "write004(CollectorRegistry.defaultRegistry)"
   ]
  },
  {
   "cell_type": "markdown",
   "metadata": {},
   "source": [
    "Let&rsquo;s wrap this function and ask for the default registry in ZIO effects:"
   ]
  },
  {
   "cell_type": "code",
   "execution_count": 5,
   "metadata": {},
   "outputs": [
    {
     "name": "stdout",
     "output_type": "stream",
     "text": [
      "# HELP PrometheusHistogram Sample prometheus histogram\n",
      "# TYPE PrometheusHistogram histogram\n",
      "PrometheusHistogram_bucket{class=\"Users\",method=\"getTotal\",le=\"0.0\",} 0.0\n",
      "PrometheusHistogram_bucket{class=\"Users\",method=\"getTotal\",le=\"0.2\",} 0.0\n",
      "PrometheusHistogram_bucket{class=\"Users\",method=\"getTotal\",le=\"0.4\",} 1.0\n",
      "PrometheusHistogram_bucket{class=\"Users\",method=\"getTotal\",le=\"0.6000000000000001\",} 1.0\n",
      "PrometheusHistogram_bucket{class=\"Users\",method=\"getTotal\",le=\"0.8\",} 1.0\n",
      "PrometheusHistogram_bucket{class=\"Users\",method=\"getTotal\",le=\"+Inf\",} 1.0\n",
      "PrometheusHistogram_count{class=\"Users\",method=\"getTotal\",} 1.0\n",
      "PrometheusHistogram_sum{class=\"Users\",method=\"getTotal\",} 0.32\n",
      "PrometheusHistogram_bucket{class=\"Users\",method=\"getUsers\",le=\"0.0\",} 0.0\n",
      "PrometheusHistogram_bucket{class=\"Users\",method=\"getUsers\",le=\"0.2\",} 0.0\n",
      "PrometheusHistogram_bucket{class=\"Users\",method=\"getUsers\",le=\"0.4\",} 0.0\n",
      "PrometheusHistogram_bucket{class=\"Users\",method=\"getUsers\",le=\"0.6000000000000001\",} 1.0\n",
      "PrometheusHistogram_bucket{class=\"Users\",method=\"getUsers\",le=\"0.8\",} 1.0\n",
      "PrometheusHistogram_bucket{class=\"Users\",method=\"getUsers\",le=\"+Inf\",} 1.0\n",
      "PrometheusHistogram_count{class=\"Users\",method=\"getUsers\",} 1.0\n",
      "PrometheusHistogram_sum{class=\"Users\",method=\"getUsers\",} 0.45\n",
      "# HELP PrometheusCounter Sample prometheus counter\n",
      "# TYPE PrometheusCounter counter\n",
      "PrometheusCounter{class=\"Users\",method=\"getTotal\",} 1.0\n",
      "PrometheusCounter{class=\"Users\",method=\"getUsers\",} 3.0\n",
      "\n"
     ]
    },
    {
     "data": {
      "text/plain": [
       "\u001b[32mimport \u001b[39m\u001b[36mzio.console.putStrLn\n",
       "\u001b[39m\n",
       "\u001b[32mimport \u001b[39m\u001b[36mzio.console.Console\n",
       "\u001b[39m\n",
       "\u001b[32mimport \u001b[39m\u001b[36mzio.Runtime\n",
       "\u001b[39m\n",
       "\u001b[32mimport \u001b[39m\u001b[36mzio.Task\n",
       "\n",
       "\u001b[39m\n",
       "\u001b[36mwriteT004\u001b[39m: \u001b[32mCollectorRegistry\u001b[39m => \u001b[32mTask\u001b[39m[\u001b[32mString\u001b[39m] = ammonite.$sess.cmd4$Helper$$Lambda$2459/1653259642@36747a8a\n",
       "\u001b[36mexternalRegistry\u001b[39m: \u001b[32mTask\u001b[39m[\u001b[32mCollectorRegistry\u001b[39m] = zio.ZIO$EffectPartial@51e825b5\n",
       "\u001b[36mprogram\u001b[39m: \u001b[32mzio\u001b[39m.\u001b[32mZIO\u001b[39m[\u001b[32mAny\u001b[39m, \u001b[32mThrowable\u001b[39m, \u001b[32mString\u001b[39m] = zio.ZIO$FlatMap@48957f1b\n",
       "\u001b[36mrt\u001b[39m: \u001b[32mRuntime\u001b[39m.\u001b[32mManaged\u001b[39m[\u001b[32mConsole\u001b[39m] = zio.Runtime$Managed$$anon$1@26f40617"
      ]
     },
     "execution_count": 5,
     "metadata": {},
     "output_type": "execute_result"
    }
   ],
   "source": [
    "import zio.console.putStrLn\n",
    "import zio.console.Console\n",
    "import zio.Runtime\n",
    "import zio.Task\n",
    "\n",
    "val writeT004: CollectorRegistry => Task[String] = registry => Task {\n",
    "    val writer = new StringWriter\n",
    "    TextFormat.write004(writer, registry.metricFamilySamples)\n",
    "    writer.toString\n",
    "}\n",
    "\n",
    "val externalRegistry = Task.effect(CollectorRegistry.defaultRegistry)\n",
    "\n",
    "val program = for {\n",
    "    r <- externalRegistry\n",
    "    s <- writeT004(r)\n",
    "} yield s\n",
    "\n",
    "val rt = Runtime.unsafeFromLayer(Console.live)\n",
    "\n",
    "rt.unsafeRun(program >>= (s => putStrLn(s)))"
   ]
  },
  {
   "cell_type": "markdown",
   "metadata": {},
   "source": [
    "-   Calling `Task` directly is the same as calling `Task.effect`\n",
    "-   To run this effect we need a `Runtime` capable of writing to the **Console**\n",
    "\n",
    "\n",
    "<a id=\"orgab1c330\"></a>\n",
    "\n",
    "### As Concurrency Framework\n",
    "\n",
    "-   ZIO offers many utilities for concurrency such as `Fiber`, `Queue`, `Scheduler`, etc.\n",
    "-   Let&rsquo;s define some basic functionality"
   ]
  },
  {
   "cell_type": "code",
   "execution_count": 6,
   "metadata": {},
   "outputs": [
    {
     "data": {
      "text/plain": [
       "\u001b[32mimport \u001b[39m\u001b[36mzio.{Queue, UIO, URIO}\n",
       "\n",
       "\u001b[39m\n",
       "\u001b[36mqueue\u001b[39m: \u001b[32mUIO\u001b[39m[\u001b[32mQueue\u001b[39m[\u001b[32mString\u001b[39m]] = zio.ZIO$FlatMap@23988317\n",
       "defined \u001b[32mfunction\u001b[39m \u001b[36msend\u001b[39m\n",
       "defined \u001b[32mfunction\u001b[39m \u001b[36msendAsync\u001b[39m\n",
       "defined \u001b[32mfunction\u001b[39m \u001b[36mlisten\u001b[39m"
      ]
     },
     "execution_count": 6,
     "metadata": {},
     "output_type": "execute_result"
    }
   ],
   "source": [
    "import zio.{Queue, UIO, URIO}\n",
    "\n",
    "val queue: UIO[Queue[String]] = Queue.bounded[String](10)\n",
    "\n",
    "def send(msg: String)(q: Queue[String]): URIO[Console, Unit] =\n",
    "  for {\n",
    "    _ <- putStrLn(s\"Sending... $msg\")\n",
    "    _ <- q.offer(msg)\n",
    "  } yield ()\n",
    "\n",
    "def sendAsync(msg: String)(q: Queue[String]): UIO[Unit] =\n",
    "  for {\n",
    "    _ <- q.offer(msg).fork\n",
    "  } yield ()\n",
    "\n",
    "def listen(q: Queue[String]): URIO[Console, Unit] =\n",
    "  for {\n",
    "      s <- q.poll\n",
    "      _ <- putStrLn(s\"Received $s\")\n",
    "  } yield ()"
   ]
  },
  {
   "cell_type": "markdown",
   "metadata": {},
   "source": [
    "-   `UIO` is a `ZIO[Any, Nothing, A]`, which means an effect that needs no environment and can&rsquo;t fail.\n",
    "-   `send` just offers messages to the queue synchronously while `sendAsync` does so asynchronously\n",
    "-   Important is to not that you need to pass the `queue` they will send messages to\n",
    "\n",
    "Lets test we can send synchronously:"
   ]
  },
  {
   "cell_type": "code",
   "execution_count": 7,
   "metadata": {
    "scrolled": false
   },
   "outputs": [
    {
     "name": "stdout",
     "output_type": "stream",
     "text": [
      "Sending... Number 1\n",
      "Sending... Number 2\n",
      "Sending... Number 3\n",
      "Sending... Number 4\n",
      "Sending... Number 5\n",
      "Sending... Number 6\n",
      "Sending... Number 7\n",
      "Sending... Number 8\n",
      "Sending... Number 9\n",
      "Sending... Number 10\n",
      "Sending... Number 11\n"
     ]
    },
    {
     "ename": "",
     "evalue": "",
     "output_type": "error",
     "traceback": [
      "Interrupted!\n  java.lang.Object.wait(\u001b[32mNative Method\u001b[39m)\n  java.lang.Object.wait(\u001b[32mObject.java\u001b[39m:\u001b[32m502\u001b[39m)\n  zio.internal.OneShot.get(\u001b[32mOneShot.scala\u001b[39m:\u001b[32m79\u001b[39m)\n  zio.Runtime.unsafeRunSync(\u001b[32mRuntime.scala\u001b[39m:\u001b[32m82\u001b[39m)\n  zio.Runtime.unsafeRunSync$(\u001b[32mRuntime.scala\u001b[39m:\u001b[32m77\u001b[39m)\n  zio.Runtime$Managed$$anon$1.unsafeRunSync(\u001b[32mRuntime.scala\u001b[39m:\u001b[32m216\u001b[39m)\n  zio.Runtime.unsafeRun(\u001b[32mRuntime.scala\u001b[39m:\u001b[32m57\u001b[39m)\n  zio.Runtime.unsafeRun$(\u001b[32mRuntime.scala\u001b[39m:\u001b[32m56\u001b[39m)\n  zio.Runtime$Managed$$anon$1.unsafeRun(\u001b[32mRuntime.scala\u001b[39m:\u001b[32m216\u001b[39m)\n  ammonite.$sess.cmd6$Helper.<init>(\u001b[32mcmd6.sc\u001b[39m:\u001b[32m6\u001b[39m)\n  ammonite.$sess.cmd6$.<clinit>(\u001b[32mcmd6.sc\u001b[39m:\u001b[32m7\u001b[39m)"
     ]
    }
   ],
   "source": [
    "val prog0 = for {\n",
    "    q <- queue\n",
    "    _ <- URIO.foreach(1 to 20)(i => send(s\"Number $i\")(q))\n",
    "} yield ()\n",
    "\n",
    "rt.unsafeRun(prog0)"
   ]
  },
  {
   "cell_type": "markdown",
   "metadata": {},
   "source": [
    "Now lets send asynchronously, this time we will `listen` for the one message:"
   ]
  },
  {
   "cell_type": "code",
   "execution_count": 8,
   "metadata": {},
   "outputs": [
    {
     "name": "stdout",
     "output_type": "stream",
     "text": [
      "Received Some(Number 1)\n"
     ]
    },
    {
     "data": {
      "text/plain": [
       "\u001b[36mprog1\u001b[39m: \u001b[32mzio\u001b[39m.\u001b[32mZIO\u001b[39m[\u001b[32mConsole\u001b[39m, \u001b[32mNothing\u001b[39m, \u001b[32mUnit\u001b[39m] = zio.ZIO$FlatMap@2f0a0a79"
      ]
     },
     "execution_count": 8,
     "metadata": {},
     "output_type": "execute_result"
    }
   ],
   "source": [
    "val prog1 = for {\n",
    "    q <- queue\n",
    "    _ <- URIO.foreach(1 to 20)(i => sendAsync(s\"Number $i\")(q))\n",
    "    _ <- listen(q)\n",
    "} yield ()\n",
    "\n",
    "rt.unsafeRun(prog1)"
   ]
  },
  {
   "cell_type": "markdown",
   "metadata": {},
   "source": [
    "Now lets create a `scheduler` that polls until there are no more messages in the queue"
   ]
  },
  {
   "cell_type": "code",
   "execution_count": 9,
   "metadata": {},
   "outputs": [
    {
     "name": "stdout",
     "output_type": "stream",
     "text": [
      "Received Some(Number 1)\n",
      "Received Some(Number 2)\n",
      "Received Some(Number 3)\n",
      "Received Some(Number 4)\n",
      "Received Some(Number 5)\n",
      "Received Some(Number 6)\n",
      "Received Some(Number 7)\n",
      "Received Some(Number 8)\n",
      "Received Some(Number 9)\n",
      "Received Some(Number 10)\n",
      "Received Some(Number 11)\n",
      "Received Some(Number 12)\n",
      "Received Some(Number 13)\n",
      "Received Some(Number 14)\n",
      "Received Some(Number 15)\n",
      "Received Some(Number 16)\n",
      "Received Some(Number 17)\n",
      "Received Some(Number 18)\n",
      "Received Some(Number 19)\n",
      "Received Some(Number 20)\n",
      "Received None\n",
      "Nothing\n"
     ]
    },
    {
     "data": {
      "text/plain": [
       "\u001b[32mimport \u001b[39m\u001b[36mzio.Schedule\n",
       "\n",
       "\u001b[39m\n",
       "\u001b[36muntilNothing\u001b[39m: \u001b[32mSchedule\u001b[39m[\u001b[32mAny\u001b[39m, \u001b[32mString\u001b[39m, \u001b[32mString\u001b[39m] = zio.Schedule$$anon$18@6a87b1eb\n",
       "defined \u001b[32mfunction\u001b[39m \u001b[36mlisten\u001b[39m\n",
       "\u001b[36mprog2\u001b[39m: \u001b[32mzio\u001b[39m.\u001b[32mZIO\u001b[39m[\u001b[32mConsole\u001b[39m, \u001b[32mNothing\u001b[39m, \u001b[32mString\u001b[39m] = zio.ZIO$FlatMap@34428235"
      ]
     },
     "execution_count": 9,
     "metadata": {},
     "output_type": "execute_result"
    }
   ],
   "source": [
    "import zio.Schedule\n",
    "\n",
    "val untilNothing = Schedule.doUntil[String](_ == \"Nothing\")\n",
    "\n",
    "def listen(q: Queue[String]): URIO[Console, String] = \n",
    "  for {\n",
    "      s <- q.poll\n",
    "      _ <- putStrLn(s\"Received $s\")\n",
    "  } yield s.getOrElse(\"Nothing\")\n",
    "\n",
    "val prog2 = for {\n",
    "    q <- queue\n",
    "    _ <- URIO.foreach(1 to 20)(i => sendAsync(s\"Number $i\")(q))\n",
    "    l <- listen(q).repeat(untilNothing)\n",
    "} yield l\n",
    "\n",
    "rt.unsafeRun(prog2 >>= (s => putStrLn(s)))"
   ]
  },
  {
   "cell_type": "markdown",
   "metadata": {},
   "source": [
    "Lets modify `listen` so that it collects messages, we applu an important principle of Pure FP in Scala: **make an unsafe but performant implementation but expose only a pure API**"
   ]
  },
  {
   "cell_type": "code",
   "execution_count": 10,
   "metadata": {},
   "outputs": [
    {
     "name": "stdout",
     "output_type": "stream",
     "text": [
      "Received Some(Number 1)\n",
      "Received Some(Number 2)\n",
      "Received Some(Number 3)\n",
      "Received Some(Number 4)\n",
      "Received Some(Number 5)\n",
      "Result: Number 1\n",
      "Result: Number 2\n",
      "Result: Number 3\n",
      "Result: Number 4\n",
      "Result: Number 5\n"
     ]
    },
    {
     "data": {
      "text/plain": [
       "\u001b[32mimport \u001b[39m\u001b[36mzio.RIO\n",
       "\n",
       "\u001b[39m\n",
       "\u001b[36muntilNCollected\u001b[39m: \u001b[32mSchedule\u001b[39m[\u001b[32mAny\u001b[39m, \u001b[32mList\u001b[39m[\u001b[32mString\u001b[39m], \u001b[32mList\u001b[39m[\u001b[32mString\u001b[39m]] = zio.Schedule$$anon$18@9eec44\n",
       "defined \u001b[32mfunction\u001b[39m \u001b[36mlisten\u001b[39m\n",
       "\u001b[36mprog3\u001b[39m: \u001b[32mzio\u001b[39m.\u001b[32mZIO\u001b[39m[\u001b[32mConsole\u001b[39m, \u001b[32mThrowable\u001b[39m, \u001b[32mList\u001b[39m[\u001b[32mString\u001b[39m]] = zio.ZIO$FlatMap@543eca7b\n",
       "\u001b[36mres9_4\u001b[39m: \u001b[32mList\u001b[39m[\u001b[32mUnit\u001b[39m] = \u001b[33mList\u001b[39m((), (), (), (), ())"
      ]
     },
     "execution_count": 10,
     "metadata": {},
     "output_type": "execute_result"
    }
   ],
   "source": [
    "import zio.RIO\n",
    "\n",
    "val untilNCollected = Schedule.doUntil[List[String]](_.size == 5)\n",
    "\n",
    "def listen(q: Queue[String]): RIO[Console, List[String]] = {\n",
    "  import scala.collection.mutable.ListBuffer\n",
    "  var collector = new ListBuffer[String]()\n",
    "  for {\n",
    "      s <- q.poll\n",
    "      _ <- putStrLn(s\"Received $s\")\n",
    "      if (s.isDefined)\n",
    "  } yield (collector += s.get).toList // safe cuz we filter on isDefined\n",
    "}\n",
    "\n",
    "val prog3 = for {\n",
    "    q <- queue\n",
    "    _ <- URIO.foreach(1 to 20)(i => sendAsync(s\"Number $i\")(q))\n",
    "    l <- listen(q).repeat(untilNCollected)\n",
    "} yield l\n",
    "\n",
    "rt.unsafeRun(prog3 >>= (l => RIO.foreach(l)(s => putStrLn(s\"Result: $s\"))))"
   ]
  },
  {
   "cell_type": "markdown",
   "metadata": {},
   "source": [
    "Since this version is **unsafe**, we switch `URIO` for its `throwable` counterpart: `RIO`.\n",
    "Now a version that polls every 2 seconds"
   ]
  },
  {
   "cell_type": "code",
   "execution_count": 11,
   "metadata": {},
   "outputs": [
    {
     "name": "stdout",
     "output_type": "stream",
     "text": [
      "Received Some(Number 1)\n",
      "Received Some(Number 2)\n",
      "Received Some(Number 3)\n"
     ]
    },
    {
     "ename": "",
     "evalue": "",
     "output_type": "error",
     "traceback": [
      "Interrupted!\n  java.lang.Object.wait(\u001b[32mNative Method\u001b[39m)\n  java.lang.Object.wait(\u001b[32mObject.java\u001b[39m:\u001b[32m502\u001b[39m)\n  zio.internal.OneShot.get(\u001b[32mOneShot.scala\u001b[39m:\u001b[32m79\u001b[39m)\n  zio.Runtime.unsafeRunSync(\u001b[32mRuntime.scala\u001b[39m:\u001b[32m82\u001b[39m)\n  zio.Runtime.unsafeRunSync$(\u001b[32mRuntime.scala\u001b[39m:\u001b[32m77\u001b[39m)\n  zio.Runtime$Managed$$anon$1.unsafeRunSync(\u001b[32mRuntime.scala\u001b[39m:\u001b[32m216\u001b[39m)\n  zio.Runtime.unsafeRun(\u001b[32mRuntime.scala\u001b[39m:\u001b[32m57\u001b[39m)\n  zio.Runtime.unsafeRun$(\u001b[32mRuntime.scala\u001b[39m:\u001b[32m56\u001b[39m)\n  zio.Runtime$Managed$$anon$1.unsafeRun(\u001b[32mRuntime.scala\u001b[39m:\u001b[32m216\u001b[39m)\n  ammonite.$sess.cmd10$Helper.<init>(\u001b[32mcmd10.sc\u001b[39m:\u001b[32m10\u001b[39m)\n  ammonite.$sess.cmd10$.<clinit>(\u001b[32mcmd10.sc\u001b[39m:\u001b[32m7\u001b[39m)"
     ]
    }
   ],
   "source": [
    "import zio.duration._\n",
    "\n",
    "val everyNSec = Schedule.spaced(2.seconds)\n",
    "val prog4 = for {\n",
    "    q <- queue\n",
    "    _ <- URIO.foreach(1 to 20)(i => sendAsync(s\"Number $i\")(q))\n",
    "    l <- listen(q).repeat(everyNSec)\n",
    "} yield l\n",
    "\n",
    "rt.unsafeRun(prog4.provideSomeLayer[Console](zio.clock.Clock.live))"
   ]
  },
  {
   "cell_type": "markdown",
   "metadata": {},
   "source": [
    "Let&rsquo;s combine both schedulers and prepare a `Runtime` that has all effects we&rsquo;re gonna need:"
   ]
  },
  {
   "cell_type": "code",
   "execution_count": 12,
   "metadata": {},
   "outputs": [
    {
     "name": "stdout",
     "output_type": "stream",
     "text": [
      "Received Some(Number 1)\n",
      "Received Some(Number 11)\n",
      "Received Some(Number 2)\n",
      "Received Some(Number 12)\n",
      "Received Some(Number 3)\n",
      "Received Some(Number 13)\n",
      "Received Some(Number 4)\n",
      "Received Some(Number 14)\n",
      "Received Some(Number 5)\n"
     ]
    },
    {
     "data": {
      "text/plain": [
       "\u001b[32mimport \u001b[39m\u001b[36mzio.clock.Clock\n",
       "\u001b[39m\n",
       "\u001b[32mimport \u001b[39m\u001b[36mzio.duration._\n",
       "\n",
       "\u001b[39m\n",
       "\u001b[36meveryNSec\u001b[39m: \u001b[32mSchedule\u001b[39m[\u001b[32mClock\u001b[39m, \u001b[32mAny\u001b[39m, \u001b[32mInt\u001b[39m] = zio.Schedule$$anon$18@58710870\n",
       "\u001b[36mrt\u001b[39m: \u001b[32mRuntime\u001b[39m.\u001b[32mManaged\u001b[39m[\u001b[32mConsole\u001b[39m with \u001b[32mClock\u001b[39m] = zio.Runtime$Managed$$anon$1@1f4f4c6b\n",
       "\u001b[36meveryNSecUntilCollected\u001b[39m: \u001b[32mSchedule\u001b[39m[\u001b[32mClock\u001b[39m, \u001b[32mList\u001b[39m[\u001b[32mString\u001b[39m], (\u001b[32mList\u001b[39m[\u001b[32mString\u001b[39m], \u001b[32mInt\u001b[39m)] = zio.Schedule$$anon$1@47d92aba\n",
       "\u001b[36mprog5\u001b[39m: \u001b[32mzio\u001b[39m.\u001b[32mZIO\u001b[39m[\u001b[32mConsole\u001b[39m with \u001b[32mClock\u001b[39m, \u001b[32mThrowable\u001b[39m, (\u001b[32mList\u001b[39m[\u001b[32mString\u001b[39m], \u001b[32mInt\u001b[39m)] = zio.ZIO$FlatMap@65938e76\n",
       "\u001b[36mres11_6\u001b[39m: (\u001b[32mList\u001b[39m[\u001b[32mString\u001b[39m], \u001b[32mInt\u001b[39m) = (\n",
       "  \u001b[33mList\u001b[39m(\u001b[32m\"Number 1\"\u001b[39m, \u001b[32m\"Number 2\"\u001b[39m, \u001b[32m\"Number 3\"\u001b[39m, \u001b[32m\"Number 4\"\u001b[39m, \u001b[32m\"Number 5\"\u001b[39m),\n",
       "  \u001b[32m4\u001b[39m\n",
       ")"
      ]
     },
     "execution_count": 12,
     "metadata": {},
     "output_type": "execute_result"
    }
   ],
   "source": [
    "import zio.clock.Clock\n",
    "import zio.duration._\n",
    "\n",
    "val everyNSec = Schedule.spaced(2.seconds)\n",
    "\n",
    "val rt = Runtime.unsafeFromLayer(Console.live ++ Clock.live)\n",
    "\n",
    "val everyNSecUntilCollected = untilNCollected && everyNSec\n",
    "\n",
    "val prog5 = for {\n",
    "    q <- queue\n",
    "    _ <- URIO.foreach(1 to 20)(i => sendAsync(s\"Number $i\")(q))\n",
    "    l <- listen(q).repeat(everyNSecUntilCollected)\n",
    "} yield l\n",
    "\n",
    "rt.unsafeRun(prog5)"
   ]
  },
  {
   "cell_type": "markdown",
   "metadata": {},
   "source": [
    "Finally, lets execute 2 effects in parallel, returning the result of the first"
   ]
  },
  {
   "cell_type": "code",
   "execution_count": 13,
   "metadata": {},
   "outputs": [
    {
     "name": "stdout",
     "output_type": "stream",
     "text": [
      "Received Some(Number 2)\n",
      "Received Some(Number 1)\n",
      "Received Some(Number 3)\n",
      "Received Some(Number 5)\n",
      "Received Some(Number 4)\n",
      "Received Some(Number 6)\n",
      "Received Some(Number 7)\n",
      "Received Some(Number 8)\n",
      "Received Some(Number 9)\n",
      "Received Some(Number 10)\n",
      "Received Some(Number 11)\n",
      "Received Some(Number 12)\n",
      "Received Some(Number 13)\n",
      "Received Some(Number 14)\n"
     ]
    },
    {
     "ename": "",
     "evalue": "",
     "output_type": "error",
     "traceback": [
      "Interrupted!\n  java.lang.Object.wait(\u001b[32mNative Method\u001b[39m)\n  java.lang.Object.wait(\u001b[32mObject.java\u001b[39m:\u001b[32m502\u001b[39m)\n  zio.internal.OneShot.get(\u001b[32mOneShot.scala\u001b[39m:\u001b[32m79\u001b[39m)\n  zio.Runtime.unsafeRunSync(\u001b[32mRuntime.scala\u001b[39m:\u001b[32m82\u001b[39m)\n  zio.Runtime.unsafeRunSync$(\u001b[32mRuntime.scala\u001b[39m:\u001b[32m77\u001b[39m)\n  zio.Runtime$Managed$$anon$1.unsafeRunSync(\u001b[32mRuntime.scala\u001b[39m:\u001b[32m216\u001b[39m)\n  zio.Runtime.unsafeRun(\u001b[32mRuntime.scala\u001b[39m:\u001b[32m57\u001b[39m)\n  zio.Runtime.unsafeRun$(\u001b[32mRuntime.scala\u001b[39m:\u001b[32m56\u001b[39m)\n  zio.Runtime$Managed$$anon$1.unsafeRun(\u001b[32mRuntime.scala\u001b[39m:\u001b[32m216\u001b[39m)\n  ammonite.$sess.cmd12$Helper.<init>(\u001b[32mcmd12.sc\u001b[39m:\u001b[32m20\u001b[39m)\n  ammonite.$sess.cmd12$.<clinit>(\u001b[32mcmd12.sc\u001b[39m:\u001b[32m7\u001b[39m)"
     ]
    }
   ],
   "source": [
    "def listen(q: Queue[String]): RIO[Console, List[String]] = {\n",
    "  import scala.collection.mutable.ListBuffer\n",
    "  var collector = new ListBuffer[String]()\n",
    "  for {\n",
    "      s <- q.poll\n",
    "      _ <- putStrLn(s\"Received $s\")\n",
    "      if (s.isDefined)\n",
    "  } yield {\n",
    "      if (collector.size == 5) collector.clear()\n",
    "      (collector += s.get).toList\n",
    "  }\n",
    "}\n",
    "\n",
    "val prog6 = for {\n",
    "    q <- queue\n",
    "    _ <- URIO.foreach(1 to 20)(i => sendAsync(s\"Number $i\")(q))\n",
    "    l <- listen(q).repeat(untilNCollected) <& listen(q).repeat(everyNSec)\n",
    "} yield l\n",
    "\n",
    "rt.unsafeRun(prog6)"
   ]
  },
  {
   "cell_type": "markdown",
   "metadata": {},
   "source": [
    "<a id=\"orgf36bf9a\"></a>\n",
    "\n",
    "# ZLayer\n",
    "\n",
    "\n",
    "<a id=\"org80935e9\"></a>\n",
    "\n",
    "## `Has` is a type level map.\n",
    "\n",
    "\n",
    "<a id=\"org145560c\"></a>\n",
    "\n",
    "## How to create them\n",
    "\n",
    "-   `ZLayer.succeeds` created a layer that has no dependencies\n",
    "-   `Metrics` is both the name of the **Layer** andat the type-level, its the name of a `Metrics.Service` **Has**."
   ]
  },
  {
   "cell_type": "code",
   "execution_count": null,
   "metadata": {},
   "outputs": [],
   "source": [
    "import zio.{ Has, Layer, ZLayer }\n",
    "import zio.{ RIO, Task }\n",
    "\n",
    "type Metrics = Has[Metrics.Service]\n",
    "\n",
    "object Metrics {\n",
    "    trait Service {\n",
    "      def getRegistry(): Task[CollectorRegistry]\n",
    "\n",
    "      def inc(tags: Array[String]): Task[Unit]\n",
    "\n",
    "      def inc(amount: Double, tags: Array[String]): Task[Unit]\n",
    "\n",
    "      def time(f: () => Unit, tags: Array[String]): Task[Double]\n",
    "\n",
    "    }\n",
    "\n",
    "    val live: Layer[Nothing, Metrics] = ZLayer.succeed(new Service {\n",
    "\n",
    "      private val (myCounter, myHistogram) = {\n",
    "          val c = Counter\n",
    "            .build()\n",
    "            .name(\"LayerCounter\")\n",
    "            .labelNames(Array(\"class\", \"method\"): _*)\n",
    "            .help(s\"Prometheus counter inside a layer\")\n",
    "            .register()\n",
    "\n",
    "        val h = Histogram\n",
    "            .build()\n",
    "            .name(\"LayerHistogram\")\n",
    "            .labelNames(Array(\"class\", \"method\"): _*)\n",
    "            .linearBuckets(0.0, 0.2, 5)\n",
    "            .help(s\"Prometheus histogram inside a layer\")\n",
    "            .register()\n",
    "          \n",
    "          (c, h)\n",
    "      }\n",
    "\n",
    "      def getRegistry(): Task[CollectorRegistry] =\n",
    "        Task.effect(CollectorRegistry.defaultRegistry)\n",
    "\n",
    "      def inc(tags: Array[String]): zio.Task[Unit] =\n",
    "        inc(1.0, tags)\n",
    "\n",
    "      def inc(amount: Double, tags: Array[String]): Task[Unit] =\n",
    "        Task(myCounter.labels(tags:_*)inc(amount))\n",
    "\n",
    "      def time(f: () => Unit, tags: Array[String]): Task[Double] = Task {\n",
    "          val t = myHistogram.labels(tags: _*).startTimer()\n",
    "          f()\n",
    "          t.observeDuration()\n",
    "      }\n",
    "    })\n",
    "}"
   ]
  },
  {
   "cell_type": "markdown",
   "metadata": {},
   "source": [
    "Let&rsquo;s write a small program that uses:"
   ]
  },
  {
   "cell_type": "code",
   "execution_count": null,
   "metadata": {},
   "outputs": [],
   "source": [
    "val program1 = for {\n",
    "      m  <- RIO.environment[Metrics]\n",
    "      _  <- putStrLn(\"Metrics\")\n",
    "      r  <- m.get.getRegistry()\n",
    "      _  <- m.get.inc(Array(\"RequestCounter\", \"get\"))\n",
    "      _  <- m.get.inc(Array(\"RequestCounter\", \"post\"))\n",
    "      _  <- m.get.inc(2.0, Array(\"LoginCounter\", \"login\"))\n",
    "      _  <- m.get.time(() => Thread.sleep(2000), Array(\"histogram\", \"get\"))\n",
    "      s  <- writeT004(r)\n",
    "      _  <- putStrLn(s)\n",
    "    } yield ()"
   ]
  },
  {
   "cell_type": "markdown",
   "metadata": {},
   "source": [
    "The type of `program` is `ZIO[Metrics with Console, Throwable, Unit]`. We can use the current **runtime** and just **provide** the extra layer:"
   ]
  },
  {
   "cell_type": "code",
   "execution_count": null,
   "metadata": {},
   "outputs": [],
   "source": [
    "//CollectorRegistry.defaultRegistry.clear()\n",
    "rt.unsafeRun(program1.provideSomeLayer[Console](Metrics.live))"
   ]
  },
  {
   "cell_type": "markdown",
   "metadata": {},
   "source": [
    "Unlike `map`, the type parameter for `provideSomeLayer` is the ****output**** type.\n",
    "\n",
    "\n",
    "<a id=\"org7d9a2e0\"></a>\n",
    "\n",
    "## A ZLayer that takes input\n",
    "\n",
    "To Save space, let&rsquo;s write 2 versions of that do the same un der `Metrics2`:"
   ]
  },
  {
   "cell_type": "code",
   "execution_count": null,
   "metadata": {},
   "outputs": [],
   "source": [
    "type Metrics2 = Has[Metrics2.Service]\n",
    "\n",
    "object Metrics2 {\n",
    "    trait Service {\n",
    "      def getRegistry(): Task[CollectorRegistry]\n",
    "\n",
    "      def inc(tags: Array[String]): Task[Unit]\n",
    "\n",
    "      def inc(amount: Double, tags: Array[String]): Task[Unit]\n",
    "\n",
    "      def time(f: () => Unit, tags: Array[String]): Task[Double]\n",
    "\n",
    "    }\n",
    "\n",
    "    val receiver: (Counter, Histogram) => Layer[Nothing, Metrics2] = \n",
    "    (myCounter, myHistogram) => ZLayer.succeed(new Service {\n",
    "\n",
    "      def getRegistry(): Task[CollectorRegistry] =\n",
    "        Task.effect(CollectorRegistry.defaultRegistry)\n",
    "\n",
    "      def inc(tags: Array[String]): zio.Task[Unit] =\n",
    "        inc(1.0, tags)\n",
    "\n",
    "      def inc(amount: Double, tags: Array[String]): Task[Unit] =\n",
    "        Task(myCounter.labels(tags:_*)inc(amount))\n",
    "\n",
    "      def time(f: () => Unit, tags: Array[String]): Task[Double] = Task {\n",
    "          val t = myHistogram.labels(tags: _*).startTimer()\n",
    "          f()\n",
    "          t.observeDuration()\n",
    "      }\n",
    "    })\n",
    "    \n",
    "    val receiverHas: ZLayer[Has[(Counter, Histogram)], Nothing, Metrics2] =\n",
    "      ZLayer.fromFunction[Has[(Counter, Histogram)], Metrics2.Service](\n",
    "        tup => new Service {\n",
    "            def getRegistry(): Task[CollectorRegistry] =\n",
    "              Task.effect(CollectorRegistry.defaultRegistry)\n",
    "\n",
    "            def inc(tags: Array[String]): zio.Task[Unit] =\n",
    "              inc(1.0, tags)\n",
    "\n",
    "            def inc(amount: Double, tags: Array[String]): Task[Unit] =\n",
    "              Task(tup.get._1.labels(tags:_*)inc(amount))\n",
    "\n",
    "            def time(f: () => Unit, tags: Array[String]): Task[Double] = Task {\n",
    "              val t = tup.get._2.labels(tags: _*).startTimer()\n",
    "              f()\n",
    "              t.observeDuration()\n",
    "            }\n",
    "          }\n",
    "      )\n",
    "}"
   ]
  },
  {
   "cell_type": "code",
   "execution_count": null,
   "metadata": {},
   "outputs": [],
   "source": [
    "CollectorRegistry.defaultRegistry.clear()"
   ]
  },
  {
   "cell_type": "markdown",
   "metadata": {},
   "source": [
    "Both `receiver` and `receiverHas` takes a Prometheus Counter and a Histogram as input:"
   ]
  },
  {
   "cell_type": "code",
   "execution_count": null,
   "metadata": {},
   "outputs": [],
   "source": [
    "val c = Counter\n",
    "    .build()\n",
    "    .name(\"PrometheusCounter\")\n",
    "    .labelNames(Array(\"class\", \"method\"): _*)\n",
    "    .help(s\"Sample prometheus counter\")\n",
    "    .register()\n",
    "\n",
    "val h = Histogram\n",
    "    .build()\n",
    "    .name(\"PrometheusHistogram\")\n",
    "    .labelNames(Array(\"class\", \"method\"): _*)\n",
    "    .linearBuckets(0.0, 0.2, 5)\n",
    "    .help(s\"Sample prometheus histogram\")\n",
    "    .register()"
   ]
  },
  {
   "cell_type": "markdown",
   "metadata": {},
   "source": [
    "The biggest difference is on how we pass them to each layer, `receiverHas` requires a `Zlayer` that `Has` a tuple `(Counter, Histogram)`:"
   ]
  },
  {
   "cell_type": "code",
   "execution_count": null,
   "metadata": {},
   "outputs": [],
   "source": [
    "val rLayerHas     = ZLayer.succeed[(Counter, Histogram)]((c, h)) >>> Metrics2.receiverHas\n",
    "val rtReceiverhas = Runtime.unsafeFromLayer(rLayerHas ++ Console.live)"
   ]
  },
  {
   "cell_type": "markdown",
   "metadata": {},
   "source": [
    "If `++` is **compose/and** then you can read `>>>` as **feed/into**.\n",
    "`receiver` on the other hand is easier to implement, but you may not have a choice as to which method to use."
   ]
  },
  {
   "cell_type": "code",
   "execution_count": null,
   "metadata": {},
   "outputs": [],
   "source": [
    "val rLayer     = Metrics2.receiver(c, h)\n",
    "val rtReceiver = Runtime.unsafeFromLayer(rLayer ++ Console.live)"
   ]
  },
  {
   "cell_type": "markdown",
   "metadata": {},
   "source": [
    "And finally a simple program to test it:"
   ]
  },
  {
   "cell_type": "code",
   "execution_count": null,
   "metadata": {},
   "outputs": [],
   "source": [
    "val program2 = for {\n",
    "      m  <- RIO.environment[Metrics2]\n",
    "      _  <- putStrLn(\"Metrics2\")\n",
    "      _  <- m.get.inc(Array(\"RequestCounter\", \"get\"))\n",
    "      _  <- m.get.inc(Array(\"RequestCounter\", \"post\"))\n",
    "      _  <- m.get.inc(2.0, Array(\"LoginCounter\", \"login\"))\n",
    "      _  <- m.get.time(() => Thread.sleep(2000), Array(\"histogram\", \"get\"))\n",
    "      r  <- m.get.getRegistry()\n",
    "      s  <- writeT004(r)\n",
    "      _  <- putStrLn(s)\n",
    "    } yield ()\n",
    "\n",
    "rtReceiverhas.unsafeRun(program2)\n",
    "//rtReceiver.unsafeRun(program2)"
   ]
  },
  {
   "cell_type": "markdown",
   "metadata": {},
   "source": [
    "<a id=\"orge161833\"></a>\n",
    "\n",
    "# zio-test\n",
    "\n",
    "\n",
    "<a id=\"org47c1454\"></a>\n",
    "\n",
    "## Intro\n",
    "\n",
    "* `zio-test` is designed so that tests (and other accompanying concepts like assertions) become ordinary values that can be passed around, transformed and composed together.\n",
    "* Testing asynchronous code is easy since instead of wrapping code in `scala.util.Future` (since you cannot block on ScalaJS), everything is already a `ZIO` object.\n",
    "* Since test are ordinary `ZIO` values, we don&rsquo;t need to turn to testing framework for things like retries, timeouts and resource management.\n",
    "* `Spec[L, T]`, every spec is labeled with `L` and can be a **suite** which contains other specs or a test of type `T`.\n",
    "\n",
    "<a id=\"org3275b26\"></a>\n",
    "\n",
    "## TestClock"
   ]
  },
  {
   "cell_type": "code",
   "execution_count": null,
   "metadata": {},
   "outputs": [],
   "source": [
    "import $ivy.`dev.zio::zio-test:1.0.0-RC18-2`"
   ]
  },
  {
   "cell_type": "code",
   "execution_count": null,
   "metadata": {
    "scrolled": true
   },
   "outputs": [],
   "source": [
    "import zio.duration._\n",
    "import zio.{RIO, Schedule, Queue, UIO, URIO}\n",
    "import zio.console._\n",
    "import zio.test._\n",
    "import zio.test.Assertion._\n",
    "import zio.test.environment.TestClock\n",
    "\n",
    "object ClockTest extends DefaultRunnableSpec {\n",
    "\n",
    "    val queue: UIO[Queue[String]] = Queue.bounded[String](10)\n",
    "\n",
    "    def sendAsync(msg: String)(q: Queue[String]): UIO[Unit] =\n",
    "      for {\n",
    "        _ <- q.offer(msg).fork\n",
    "      } yield ()\n",
    "\n",
    "    def listen(q: Queue[String]): RIO[Console, List[String]] = {\n",
    "      import scala.collection.mutable.ListBuffer\n",
    "      val collector = new ListBuffer[String]()\n",
    "      for {\n",
    "          s <- q.poll\n",
    "          _ <- putStrLn(s\"Received $s\")\n",
    "          if (s.isDefined)\n",
    "      } yield {\n",
    "          if (collector.size == 5) collector.clear()\n",
    "          (collector += s.get).toList\n",
    "      }\n",
    "    }\n",
    "\n",
    "    val every5Min = Schedule.spaced(1.second)\n",
    "    val until5Collected = Schedule.doUntil[List[String]](_.size == 5)\n",
    "    val every5SecUntilCollected = until5Collected && every5Min\n",
    "\n",
    "    val val2Test = {\n",
    "        for {\n",
    "            q <- queue\n",
    "            _ <- URIO.foreach(1 to 20)(i => sendAsync(s\"Number $i\")(q))\n",
    "            l <- listen(q).repeat(every5SecUntilCollected)\n",
    "        } yield l\n",
    "    }\n",
    "\n",
    "    def spec = suite(\"Testing Spec\")(\n",
    "        test(\"test simple values\") {\n",
    "            assert(5*5)(equalTo(25))\n",
    "        },\n",
    "        testM(\"test Monadic/ZIO values\") {\n",
    "            for {\n",
    "                _   <- TestClock.adjust(5.seconds)\n",
    "                tup <- val2Test\n",
    "            } yield assert(tup._1.size)(equalTo(5)) && assert(tup._2)(equalTo(4))\n",
    "        }\n",
    "    )\n",
    "}\n",
    "\n",
    "ClockTest.main(Array.empty[String])"
   ]
  },
  {
   "cell_type": "markdown",
   "metadata": {},
   "source": [
    "<a id=\"org6360a37\"></a>\n",
    "\n",
    "# ZIO Lock-in?\n",
    "\n",
    "* Nope, `iterop` everything\n",
    "* but&#x2026; zio-all is comfy\n",
    "\n"
   ]
  },
  {
   "cell_type": "code",
   "execution_count": null,
   "metadata": {},
   "outputs": [],
   "source": []
  }
 ],
 "metadata": {
  "kernelspec": {
   "display_name": "Scala",
   "language": "scala",
   "name": "scala"
  },
  "language_info": {
   "codemirror_mode": "text/x-scala",
   "file_extension": ".scala",
   "mimetype": "text/x-scala",
   "name": "scala",
   "nbconvert_exporter": "script",
   "version": "2.13.1"
  }
 },
 "nbformat": 4,
 "nbformat_minor": 2
}
