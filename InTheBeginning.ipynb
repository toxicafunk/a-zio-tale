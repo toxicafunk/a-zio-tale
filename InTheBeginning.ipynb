{
 "cells": [
  {
   "cell_type": "markdown",
   "metadata": {},
   "source": [
    "# Table of Contents\n",
    "\n",
    "1.  [Experience](#org289031f)\n",
    "2.  [Haskelisms](#org9fc70df)\n",
    "    1.  [Strict vs Lazy (Wrong Question)](#org437c2c8)\n",
    "        1.  [Stict vs Non-strict => Denotational Semantics](#orgec4e319)\n",
    "        2.  [Eager vs Lazy => Operational Semantics](#org33d918b)\n",
    "        3.  [Strict - Eager](#org0d2ab55)\n",
    "        4.  [Strict - Lazy](#org6103a58)\n",
    "        5.  [Non-stric - Eager](#orgb077ab7)\n",
    "        6.  [Non-strict - Lazy](#orgfaac0fa)\n",
    "    2.  [Non-strictness](#org232ef1c)\n",
    "        1.  [Strictness](#org44a0f03)\n",
    "    3.  [Monads & Trampolining](#org877b40a)\n",
    "        1.  [Trampolines trade stack for heap](#orga2e5e33)\n",
    "        2.  [Trampolines](#orgaeaf70f)\n",
    "    4.  [Monad Transformers](#org70424fb)\n",
    "        1.  [A technique designed for a non-strict, lazy by default environment on the JVM](#org2ca9b64)\n",
    "3.  [ZIO](#orgc4a45c4)\n",
    "    1.  [Life after Typeclasses](#orgc11a4ff)\n",
    "        1.  [What to do with no monad-support](#org1d5e14a)\n",
    "        2.  [What would Scala do?](#org3263a7e)\n",
    "    2.  [In JDG&rsquo;s words](#orgfa6122b)\n",
    "4.  [ZLayer](#org71e0cb6)\n",
    "    1.  [`Has` is a type level map. To implement `map` we need a type tag for the new type, which we could require you to provide, but then we also need a way to remove the old type from the type level map and have that be statically known at compile time.](#orgb25da80)\n",
    "    2.  [How to create them](#org5beaec1)\n",
    "    3.  [How to use them for DI](#orgeb9b438)\n",
    "5.  [Runtime and Environment](#org574f144)\n",
    "    1.  [When to use ZEvn and when to roll your own](#org53a4c36)\n",
    "6.  [zio-test](#orgd726fb1)\n",
    "    1.  [Intro](#orgdbfbaa1)\n",
    "    2.  [TestClock](#orgda77c5a)\n",
    "    3.  [TestConsole](#orgdfb875d)\n",
    "7.  [ZIO Lock-in](#org5136a95)\n",
    "    1.  [No, iterop everything](#org97276cb)\n",
    "    2.  [but&#x2026; zio-all is comfy](#org4ddc27b)\n",
    "\n",
    "<a id=\"org289031f\"></a>\n",
    "\n",
    "# Experience\n",
    "\n",
    "or context matters \n",
    "or past experience shapes current opinion\n",
    "or why I care about ZIO\n",
    "\n",
    "* Eniro Initiatives – Mañana Data Processing Hybrid Cloud Solution (Aug. 2018 – Present)\n",
    "* Carrefour – ATUIN Order Management Backend (Sept. 2017 – Jul. 2018)\n",
    "* El Corte Inglés – Data-centric Marketplace Catalog (Oct. 2016 – Jul. 2017)\n",
    "* El Corte Inglés – Customer Service Center (CSC), Omnistore, Multi-Channel platform (Dec. 2013 – Sep. 2016)\n",
    "* Jazztel – Online ATG Store (Apr. 2013 – Aug. 2013)\n",
    "* Louis Vuitton Moet Hennessy – Conducting technical audit (Feb. 2013 – Mar. 2013)\n",
    "* Philips – Lighting B2B (Nov. 2012 – Mar. 2013)\n",
    "* El Corte Inglés – Multiorder module and appliances store (Apr. 2010 – Oct. 2012)\n",
    "* CSIC – Intranet and Web Portal (May 2009 – Mar. 2010)\n",
    "\n",
    "aka: Very ENTERPRISEY!\n",
    "\n",
    "<a id=\"org9fc70df\"></a>\n",
    "\n",
    "# Haskelisms\n",
    "\n",
    "**Avoid applying patterns designed for non-strict and lazy-by-default execution environments on strict and eager ones**\n",
    "\n",
    "<a id=\"orgec4e319\"></a>\n",
    "\n",
    "## Strict vs Lazy... (the wrong question!)\n",
    "\n",
    "* Strict vs Non-strict\n",
    "* Eager vs Lazy\n",
    "\n",
    "<a id=\"orgec4e319\"></a>\n",
    "\n",
    "### Stict vs Non-strict => Denotational Semantics\n",
    "\n",
    "\n",
    "<a id=\"org33d918b\"></a>\n",
    "\n",
    "### Eager vs Lazy => Operational Semantics\n",
    "\n",
    "\n",
    "<a id=\"org0d2ab55\"></a>\n",
    "\n",
    "### Strict - Eager\n",
    "\n",
    "\n",
    "<a id=\"org6103a58\"></a>\n",
    "\n",
    "### Strict - Lazy\n",
    "\n",
    "\n",
    "<a id=\"orgb077ab7\"></a>\n",
    "\n",
    "### Non-stric - Eager\n",
    "\n",
    "\n",
    "<a id=\"orgfaac0fa\"></a>\n",
    "\n",
    "### Non-strict - Lazy\n",
    "\n",
    "\n",
    "<a id=\"org232ef1c\"></a>\n",
    "\n",
    "## Non-strictness\n",
    "\n",
    "Means a function will NOT always evaluate its second argument. Lazy evaluation, the how, and non-strict denotational  semantics, the what.\n",
    "\n",
    "\n",
    "<a id=\"org44a0f03\"></a>\n",
    "\n",
    "### Strictness\n",
    "\n",
    "In haskell, its used to mean that a function evaluates its argument to [WHNF](20200512103249-whnf.md)  before proceeding.\n",
    "\n",
    "\n",
    "<a id=\"org877b40a\"></a>\n",
    "\n",
    "## Monads & Trampolining\n",
    "\n",
    "\n",
    "<a id=\"orga2e5e33\"></a>\n",
    "\n",
    "### Trampolines trade stack for heap\n",
    "\n",
    "\n",
    "<a id=\"orgaeaf70f\"></a>\n",
    "\n",
    "### [Trampolines](http://blog.higher-order.com/assets/trampolines.pdf)\n",
    "\n",
    "1.  When  the  compiler  finds  that  a  method  calls  itself  inthe  tail  position,  and  if  that  method  cannot  be  overridden(e.g.  because  of  being  declaredprivateorfinal),  therecursive method invocation is replaced with a simple jumpin the compiled code. This is equivalent to rewriting the tail-recursion as a loop\n",
    "\n",
    "2.  But while optimizing self-recursive calls is easy, replac-ing tail calls in general with jumps is more difficult. Cur-rently,  the  Java  virtual  machine  (JVM)  allows  only  localjumps, so there is no way to directly implement a tail callto another method as a jump\n",
    "\n",
    "3.  Usage\n",
    "\n",
    "    -   scalaz offers trampolines as part of its Free AND tailRecM via [BindRec](https://github.com/scalaz/scalaz/blob/867ea5466b470e53679bb7aeb054165b9c2d9176/core/src/main/scala/scalaz/BindRec.scala)\n",
    "    -   cats exposes tailRecM as a way to ensure stack safety\n",
    "    -   ZIO uses trampolining, FiberContext might be a place to start\n",
    "\n",
    "\n",
    "<a id=\"org70424fb\"></a>\n",
    "\n",
    "## Monad Transformers\n",
    "\n",
    "\n",
    "<a id=\"org2ca9b64\"></a>\n",
    "\n",
    "### A technique designed for a non-strict, lazy by default environment on the JVM\n",
    "\n",
    "\n",
    "<a id=\"orgc4a45c4\"></a>\n",
    "\n",
    "# ZIO\n",
    "\n",
    "\n",
    "<a id=\"orgc11a4ff\"></a>\n",
    "\n",
    "## Life after Typeclasses\n",
    "\n",
    "\n",
    "<a id=\"org1d5e14a\"></a>\n",
    "\n",
    "### What to do with no monad-support\n",
    "\n",
    "\n",
    "<a id=\"org3263a7e\"></a>\n",
    "\n",
    "### What would Scala do?\n",
    "\n",
    "\n",
    "<a id=\"orgfa6122b\"></a>\n",
    "\n",
    "## [In JDG&rsquo;s words](https://degoes.net/articles/zio-history)\n",
    "\n",
    "\n",
    "<a id=\"org71e0cb6\"></a>\n",
    "\n",
    "# ZLayer\n",
    "\n",
    "\n",
    "<a id=\"orgb25da80\"></a>\n",
    "\n",
    "## `Has` is a type level map. To implement `map` we need a type tag for the new type, which we could require you to provide, but then we also need a way to remove the old type from the type level map and have that be statically known at compile time.\n",
    "\n",
    "\n",
    "<a id=\"org5beaec1\"></a>\n",
    "\n",
    "## How to create them\n",
    "\n",
    "\n",
    "<a id=\"orgeb9b438\"></a>\n",
    "\n",
    "## How to use them for DI\n",
    "\n",
    "\n",
    "<a id=\"org574f144\"></a>\n",
    "\n",
    "# Runtime and Environment\n",
    "\n",
    "\n",
    "<a id=\"org53a4c36\"></a>\n",
    "\n",
    "## When to use ZEvn and when to roll your own\n",
    "\n",
    "\n",
    "<a id=\"orgd726fb1\"></a>\n",
    "\n",
    "# zio-test\n",
    "\n",
    "\n",
    "<a id=\"orgdbfbaa1\"></a>\n",
    "\n",
    "## Intro\n",
    "\n",
    "\n",
    "<a id=\"orgda77c5a\"></a>\n",
    "\n",
    "## TestClock\n",
    "\n",
    "\n",
    "<a id=\"orgdfb875d\"></a>\n",
    "\n",
    "## TestConsole\n",
    "\n",
    "\n",
    "<a id=\"org5136a95\"></a>\n",
    "\n",
    "# ZIO Lock-in\n",
    "\n",
    "\n",
    "<a id=\"org97276cb\"></a>\n",
    "\n",
    "## No, iterop everything\n",
    "\n",
    "\n",
    "<a id=\"org4ddc27b\"></a>\n",
    "\n",
    "## but&#x2026; zio-all is comfy\n",
    "\n",
    "\n"
   ]
  },
  {
   "cell_type": "code",
   "execution_count": 1,
   "metadata": {},
   "outputs": [
    {
     "data": {
      "text/plain": [
       "defined \u001b[32mfunction\u001b[39m \u001b[36mmaybeExplode\u001b[39m"
      ]
     },
     "execution_count": 1,
     "metadata": {},
     "output_type": "execute_result"
    }
   ],
   "source": [
    "def maybeExplode(b: Boolean): Int = {\n",
    "  val tup = (0, ???)\n",
    "  if (b) tup._1\n",
    "    else tup._2\n",
    "}"
   ]
  },
  {
   "cell_type": "code",
   "execution_count": 2,
   "metadata": {},
   "outputs": [
    {
     "ename": "",
     "evalue": "",
     "output_type": "error",
     "traceback": [
      "\u001b[31mscala.NotImplementedError: an implementation is missing\u001b[39m\n  scala.Predef$.$qmark$qmark$qmark(\u001b[32mPredef.scala\u001b[39m:\u001b[32m347\u001b[39m)\n  ammonite.$sess.cmd0$Helper.maybeExplode(\u001b[32mcmd0.sc\u001b[39m:\u001b[32m2\u001b[39m)\n  ammonite.$sess.cmd1$Helper.<init>(\u001b[32mcmd1.sc\u001b[39m:\u001b[32m1\u001b[39m)\n  ammonite.$sess.cmd1$.<clinit>(\u001b[32mcmd1.sc\u001b[39m:\u001b[32m7\u001b[39m)"
     ]
    }
   ],
   "source": [
    "maybeExplode(true)"
   ]
  },
  {
   "cell_type": "code",
   "execution_count": 3,
   "metadata": {},
   "outputs": [
    {
     "name": "stdout",
     "output_type": "stream",
     "text": [
      "thunking...\n",
      "Hello!\n",
      "thunking too...\n",
      "Hello!\n"
     ]
    },
    {
     "data": {
      "text/plain": [
       "defined \u001b[32mfunction\u001b[39m \u001b[36mdoSomeThing\u001b[39m\n",
       "defined \u001b[32mfunction\u001b[39m \u001b[36mdoOtherThing\u001b[39m"
      ]
     },
     "execution_count": 3,
     "metadata": {},
     "output_type": "execute_result"
    }
   ],
   "source": [
    "def doSomeThing(op: => Unit) {\n",
    "    println(\"thunking...\")\n",
    "    op\n",
    "}\n",
    "\n",
    "doSomeThing(println(\"Hello!\"))\n",
    "\n",
    "def doOtherThing(op: () => Unit) {\n",
    "    println(\"thunking too...\")\n",
    "    op()\n",
    "}\n",
    "doOtherThing(() => println(\"Hello!\"))"
   ]
  },
  {
   "cell_type": "code",
   "execution_count": 1,
   "metadata": {},
   "outputs": [
    {
     "data": {
      "text/plain": [
       "defined \u001b[32mtrait\u001b[39m \u001b[36mMonad\u001b[39m\n",
       "defined \u001b[32mobject\u001b[39m \u001b[36mMonad\u001b[39m"
      ]
     },
     "execution_count": 1,
     "metadata": {},
     "output_type": "execute_result"
    }
   ],
   "source": [
    "trait Monad[F[_]] {\n",
    "\n",
    "  def pure[A](a: A): F[A]\n",
    "  def flatMap[A, B](fa: F[A])(f: A => F[B]): F[B]\n",
    "\n",
    "  def map[A, B](fa: F[A])(f: A => B): F[B] = flatMap(fa)(a => pure(f(a)))\n",
    "}\n",
    "\n",
    "object Monad {\n",
    "\n",
    "  def apply[F[_]](implicit m: Monad[F]): Monad[F] = m\n",
    "\n",
    "  def flatMap[F[_]: Monad, A, B](fa: F[A])(f: A => F[B]) =\n",
    "    Monad[F].flatMap[A, B](fa)(f)\n",
    "\n",
    "  def pure[F[_]: Monad, A](a: A): F[A] = Monad[F].pure[A](a)\n",
    "\n",
    "  implicit class MonadOps[F[_]: Monad, A](fa: F[A]) {\n",
    "    def flatMap[B](f: A => F[B]) = Monad[F].flatMap[A, B](fa)(f)\n",
    "  }\n",
    "\n",
    "  implicit val optionMonad: Monad[Option] = new Monad[Option] {\n",
    "    def pure[A](a: A): Option[A] = Option(a)\n",
    "\n",
    "    def flatMap[A, B](fa: Option[A])(f: A => Option[B]): Option[B] = fa match {\n",
    "      case None    => None\n",
    "      case Some(a) => f(a)\n",
    "    }\n",
    "  }\n",
    "\n",
    "  implicit val listMonad: Monad[List] = new Monad[List] {\n",
    "\n",
    "    override def pure[A](a: A): List[A] = List(a)\n",
    "\n",
    "    override def flatMap[A, B](fa: List[A])(f: A => List[B]): List[B] =\n",
    "      fa match {\n",
    "        case Nil     => List.empty[B]\n",
    "        case x :: xs => f(x) ++ flatMap(xs)(f)\n",
    "      }\n",
    "  }\n",
    "}"
   ]
  },
  {
   "cell_type": "code",
   "execution_count": 2,
   "metadata": {},
   "outputs": [
    {
     "data": {
      "text/plain": [
       "defined \u001b[32mtrait\u001b[39m \u001b[36mTransM\u001b[39m\n",
       "defined \u001b[32mclass\u001b[39m \u001b[36mOptionT\u001b[39m\n",
       "defined \u001b[32mclass\u001b[39m \u001b[36mListT\u001b[39m\n",
       "defined \u001b[32mobject\u001b[39m \u001b[36mTransM\u001b[39m"
      ]
     },
     "execution_count": 2,
     "metadata": {},
     "output_type": "execute_result"
    }
   ],
   "source": [
    "trait TransM[F[_[_], _]] {\n",
    "  def lift[G[_]: Monad, A](a: G[A]): F[G, A]\n",
    "}\n",
    "\n",
    "case class OptionT[F[_]: Monad, A](value: F[Option[A]]) {\n",
    "\n",
    "  // Applicative is preferred\n",
    "  def apply(a: A): OptionT[F, A] =\n",
    "    OptionT(Monad[F].pure(Some(a)))\n",
    "\n",
    "  def pure(a: A): OptionT[F, A] = apply(a)\n",
    "\n",
    "  def flatMap[B](f: A => OptionT[F, B]): OptionT[F, B] =\n",
    "    OptionT(\n",
    "      Monad[F]\n",
    "        .flatMap(value)(_.fold(Monad[F].pure[Option[B]](None))(a => f(a).value))\n",
    "    )\n",
    "\n",
    "  def map[B](f: A => B): OptionT[F, B] =\n",
    "    OptionT(Monad[F].map(value)(_.map(f)))\n",
    "}\n",
    "\n",
    "case class ListT[F[_]: Monad, A](value: F[List[A]]) {\n",
    "\n",
    "  // Applicative is preferred\n",
    "  def apply(a: A): ListT[F, A] =\n",
    "    ListT(Monad[F].pure(List(a)))\n",
    "\n",
    "  def pure(a: A): ListT[F, A] = apply(a)\n",
    "\n",
    "  def flatMap[B](f: A => ListT[F, B]): ListT[F, B] =\n",
    "    ListT(\n",
    "      Monad[F].flatMap(value) {\n",
    "        _ match {\n",
    "          case Nil => Monad[F].pure(List.empty[B])\n",
    "          case lst => lst.map(f).reduce(_ ++ _).value\n",
    "        }\n",
    "      }\n",
    "    )\n",
    "\n",
    "  def map[B](f: A => B): ListT[F, B] =\n",
    "    ListT(Monad[F].map(value)(_.map(f)))\n",
    "\n",
    "  def ++(that: ListT[F, A]) = ListT(\n",
    "    Monad[F].flatMap(value) { lst => Monad[F].map(that.value)(lst ++ _) }\n",
    "  )\n",
    "}\n",
    "\n",
    "object TransM {\n",
    "  implicit val optionTransM: TransM[OptionT] = new TransM[OptionT] {\n",
    "    // Functor is peferred\n",
    "    override def lift[G[_], A](ga: G[A])(implicit G: Monad[G]): OptionT[G, A] =\n",
    "      OptionT(G.map(ga)(Some(_)))\n",
    "  }\n",
    "\n",
    "  implicit val listTransM: TransM[ListT] = new TransM[ListT] {\n",
    "    // Functor is peferred\n",
    "    override def lift[G[_], A](ga: G[A])(implicit G: Monad[G]): ListT[G, A] =\n",
    "      ListT(G.map(ga)(List(_)))\n",
    "  }\n",
    "}"
   ]
  },
  {
   "cell_type": "code",
   "execution_count": 5,
   "metadata": {},
   "outputs": [
    {
     "name": "stderr",
     "output_type": "stream",
     "text": [
      "cmd5.sc:6: type mismatch;\n",
      " found   : Int\n",
      " required: Option[Int]\n",
      "} yield  opt\n",
      "         ^Compilation Failed"
     ]
    },
    {
     "ename": "",
     "evalue": "",
     "output_type": "error",
     "traceback": [
      "Compilation Failed"
     ]
    }
   ],
   "source": [
    "val l1 = List(1,2,3,4,5)\n",
    "\n",
    "def calcErr(base: Int, threshold: Int): List[Option[Int]] = for {\n",
    "  i   <- l1\n",
    "  opt <- Option(i)\n",
    "} yield  opt\n",
    "\n",
    "println(calcErr(6, 12))\n",
    "\n",
    "/*\n",
    "found   : List[Int]\n",
    "required: List[Option[Int]] (lsp)\n",
    " */"
   ]
  },
  {
   "cell_type": "code",
   "execution_count": 3,
   "metadata": {},
   "outputs": [
    {
     "name": "stdout",
     "output_type": "stream",
     "text": [
      "OptionT(List(Some(7), Some(8), Some(9), Some(10), Some(11)))\n",
      "OptionT(List(Some(7), Some(8), Some(9), None, Some(11)))\n"
     ]
    },
    {
     "data": {
      "text/plain": [
       "defined \u001b[32mtype\u001b[39m \u001b[36mListOption\u001b[39m\n",
       "\u001b[36mlst1\u001b[39m: \u001b[32mList\u001b[39m[\u001b[32mOption\u001b[39m[\u001b[32mInt\u001b[39m]] = \u001b[33mList\u001b[39m(\u001b[33mSome\u001b[39m(\u001b[32m1\u001b[39m), \u001b[33mSome\u001b[39m(\u001b[32m2\u001b[39m), \u001b[33mSome\u001b[39m(\u001b[32m3\u001b[39m), \u001b[33mSome\u001b[39m(\u001b[32m4\u001b[39m), \u001b[33mSome\u001b[39m(\u001b[32m5\u001b[39m))\n",
       "\u001b[36mlst2\u001b[39m: \u001b[32mList\u001b[39m[\u001b[32mOption\u001b[39m[\u001b[32mInt\u001b[39m]] = \u001b[33mList\u001b[39m(\u001b[33mSome\u001b[39m(\u001b[32m1\u001b[39m), \u001b[33mSome\u001b[39m(\u001b[32m2\u001b[39m), \u001b[33mSome\u001b[39m(\u001b[32m3\u001b[39m), \u001b[32mNone\u001b[39m, \u001b[33mSome\u001b[39m(\u001b[32m5\u001b[39m))\n",
       "\u001b[36mr1\u001b[39m: \u001b[32mListOption\u001b[39m[\u001b[32mInt\u001b[39m] = \u001b[33mOptionT\u001b[39m(\u001b[33mList\u001b[39m(\u001b[33mSome\u001b[39m(\u001b[32m1\u001b[39m), \u001b[33mSome\u001b[39m(\u001b[32m2\u001b[39m), \u001b[33mSome\u001b[39m(\u001b[32m3\u001b[39m), \u001b[33mSome\u001b[39m(\u001b[32m4\u001b[39m), \u001b[33mSome\u001b[39m(\u001b[32m5\u001b[39m)))\n",
       "\u001b[36mr2\u001b[39m: \u001b[32mListOption\u001b[39m[\u001b[32mInt\u001b[39m] = \u001b[33mOptionT\u001b[39m(\u001b[33mList\u001b[39m(\u001b[33mSome\u001b[39m(\u001b[32m1\u001b[39m), \u001b[33mSome\u001b[39m(\u001b[32m2\u001b[39m), \u001b[33mSome\u001b[39m(\u001b[32m3\u001b[39m), \u001b[32mNone\u001b[39m, \u001b[33mSome\u001b[39m(\u001b[32m5\u001b[39m)))\n",
       "\u001b[32mimport \u001b[39m\u001b[36mTransM._\n",
       "\u001b[39m\n",
       "\u001b[36mra\u001b[39m: \u001b[32mListOption\u001b[39m[\u001b[32mInt\u001b[39m] = \u001b[33mOptionT\u001b[39m(\u001b[33mList\u001b[39m(\u001b[33mSome\u001b[39m(\u001b[32m6\u001b[39m)))\n",
       "\u001b[36mcalc\u001b[39m: \u001b[32mListOption\u001b[39m[\u001b[32mInt\u001b[39m] => \u001b[32mOptionT\u001b[39m[\u001b[32mList\u001b[39m, \u001b[32mInt\u001b[39m] = ammonite.$sess.cmd2$Helper$$Lambda$2132/1167067158@43e73d75"
      ]
     },
     "execution_count": 3,
     "metadata": {},
     "output_type": "execute_result"
    }
   ],
   "source": [
    "type ListOption[A] = OptionT[List, A]\n",
    "\n",
    "val lst1 = List(Option(1), Option(2), Option(3), Option(4), Option(5))\n",
    "val lst2 = List(Option(1), Option(2), Option(3), None, Option(5))\n",
    "val r1: ListOption[Int] = OptionT(lst1)\n",
    "val r2: ListOption[Int] = OptionT(lst2)\n",
    "import TransM._\n",
    "val ra: ListOption[Int] = optionTransM.lift(List(6))\n",
    "\n",
    "val calc: ListOption[Int] => OptionT[List, Int] = (r: ListOption[Int]) =>\n",
    "  for {\n",
    "    l1 <- r\n",
    "    l2 <- ra\n",
    "  } yield l1 + l2\n",
    "\n",
    "println(calc(r1))\n",
    "println(calc(r2))"
   ]
  },
  {
   "cell_type": "code",
   "execution_count": null,
   "metadata": {},
   "outputs": [],
   "source": [
    "val l = (1 to 11000).map(Option(_)) // Could `map` even numbers to `None`\n",
    "println(calc(OptionT(l.toList)).value.size)"
   ]
  },
  {
   "cell_type": "code",
   "execution_count": null,
   "metadata": {},
   "outputs": [],
   "source": [
    "val l = (1 to 30000).map(Option(_)) \n",
    "val t1 = l.foldLeft(OptionT(List(Option(0))))((acc, c) => {\n",
    "  val lst = acc.value\n",
    "  val j = c.fold(0)(_ + lst.head.getOrElse(0))\n",
    "  OptionT(Option(j) +: lst)\n",
    "})\n",
    "println(t1.value.filter(_ != Some(0)).length)"
   ]
  },
  {
   "cell_type": "code",
   "execution_count": 4,
   "metadata": {},
   "outputs": [
    {
     "data": {
      "text/plain": [
       "\u001b[32mimport \u001b[39m\u001b[36mannotation.tailrec\n",
       "\n",
       "\u001b[39m\n",
       "defined \u001b[32mtrait\u001b[39m \u001b[36mTrampoline\u001b[39m\n",
       "defined \u001b[32mclass\u001b[39m \u001b[36mDone\u001b[39m\n",
       "defined \u001b[32mclass\u001b[39m \u001b[36mMore\u001b[39m"
      ]
     },
     "execution_count": 4,
     "metadata": {},
     "output_type": "execute_result"
    }
   ],
   "source": [
    "import annotation.tailrec\n",
    "\n",
    "trait Trampoline[+A] {\n",
    " @tailrec\n",
    " final def resume: Either[() => Trampoline[A], A] = this match {\n",
    "    case Done(v) => Right(v)\n",
    "    case More(k) => Left(k)\n",
    "    case FlatMap(a, f) =>\n",
    "      a match {\n",
    "        case Done(v)       => f(v).resume\n",
    "        case More(k)       => Left(() => k() flatMap f)\n",
    "        case FlatMap(b, g) => b.flatMap((x: Any) => g(x) flatMap f).resume\n",
    "      }\n",
    "  }\n",
    "\n",
    "  // should advance to next step?\n",
    "  final def runT: A =\n",
    "    resume match {\n",
    "      case Right(a) => a\n",
    "      case Left(k)  => k().runT\n",
    "    }\n",
    "\n",
    "  final def flatMap[B](f: A => Trampoline[B]): Trampoline[B] =\n",
    "    /*this match {\n",
    "      case FlatMap(a, g) => FlatMap(a, (x: Any) => g(x) flatMap f)\n",
    "      case x             => FlatMap(x, f)\n",
    "     }*/\n",
    "    FlatMap(this, f)\n",
    "\n",
    "  final def map[B](f: A => B): Trampoline[B] =\n",
    "    flatMap(a => Done(f(a)))\n",
    "}\n",
    "\n",
    "case class Done[+A](result: A) extends Trampoline[A]\n",
    "\n",
    "case class More[+A](k: () => Trampoline[A]) extends Trampoline[A]\n",
    "\n",
    "private case class FlatMap[A, +B](sub: Trampoline[A], k: A => Trampoline[B]) extends Trampoline[B]"
   ]
  },
  {
   "cell_type": "code",
   "execution_count": 5,
   "metadata": {},
   "outputs": [
    {
     "data": {
      "text/plain": [
       "defined \u001b[32mtype\u001b[39m \u001b[36mListTramp\u001b[39m\n",
       "defined \u001b[32mtype\u001b[39m \u001b[36mListOption\u001b[39m"
      ]
     },
     "execution_count": 5,
     "metadata": {},
     "output_type": "execute_result"
    }
   ],
   "source": [
    "type ListTramp[A] = ListT[Trampoline, A]\n",
    "type ListOption[A] = OptionT[ListTramp, A]"
   ]
  },
  {
   "cell_type": "code",
   "execution_count": null,
   "metadata": {},
   "outputs": [],
   "source": [
    "val lst1: ListTramp[Int] = ListT(More(() => Done(List(1))))\n"
   ]
  },
  {
   "cell_type": "code",
   "execution_count": 6,
   "metadata": {},
   "outputs": [
    {
     "data": {
      "text/plain": [
       "\u001b[36mtrampolineMonad\u001b[39m: \u001b[32mAnyRef\u001b[39m with \u001b[32mMonad\u001b[39m[\u001b[32mTrampoline\u001b[39m] = ammonite.$sess.cmd5$Helper$$anon$1@44800906\n",
       "defined \u001b[32mfunction\u001b[39m \u001b[36mlistTMonad\u001b[39m\n",
       "\u001b[36mlst1\u001b[39m: \u001b[32mListTramp\u001b[39m[\u001b[32mInt\u001b[39m] = \u001b[33mListT\u001b[39m(\n",
       "  \u001b[33mMore\u001b[39m(ammonite.$sess.cmd5$Helper$$anon$1$$Lambda$2248/647554740@d459cb)\n",
       ")\n",
       "\u001b[36mlsta\u001b[39m: \u001b[32mListTramp\u001b[39m[\u001b[32mInt\u001b[39m] = \u001b[33mListT\u001b[39m(\n",
       "  \u001b[33mFlatMap\u001b[39m(\n",
       "    \u001b[33mMore\u001b[39m(ammonite.$sess.cmd5$Helper$$anon$1$$Lambda$2248/647554740@3e5ebf75),\n",
       "    ammonite.$sess.cmd3$Helper$Trampoline$$Lambda$2250/372864359@6b55d87\n",
       "  )\n",
       ")\n",
       "\u001b[36mra\u001b[39m: \u001b[32mListOption\u001b[39m[\u001b[32mInt\u001b[39m] = \u001b[33mOptionT\u001b[39m(\n",
       "  \u001b[33mListT\u001b[39m(\n",
       "    \u001b[33mFlatMap\u001b[39m(\n",
       "      \u001b[33mFlatMap\u001b[39m(\n",
       "        \u001b[33mMore\u001b[39m(ammonite.$sess.cmd5$Helper$$anon$1$$Lambda$2248/647554740@3e5ebf75),\n",
       "        ammonite.$sess.cmd3$Helper$Trampoline$$Lambda$2250/372864359@6b55d87\n",
       "      ),\n",
       "      ammonite.$sess.cmd3$Helper$Trampoline$$Lambda$2250/372864359@5d3e5d5\n",
       "    )\n",
       "  )\n",
       ")\n",
       "\u001b[36mr1\u001b[39m: \u001b[32mListOption\u001b[39m[\u001b[32mInt\u001b[39m] = \u001b[33mOptionT\u001b[39m(\n",
       "  \u001b[33mListT\u001b[39m(\n",
       "    \u001b[33mFlatMap\u001b[39m(\n",
       "      \u001b[33mMore\u001b[39m(ammonite.$sess.cmd5$Helper$$anon$1$$Lambda$2248/647554740@d459cb),\n",
       "      ammonite.$sess.cmd3$Helper$Trampoline$$Lambda$2250/372864359@562ee90e\n",
       "    )\n",
       "  )\n",
       ")\n",
       "\u001b[36mcalc\u001b[39m: \u001b[32mListOption\u001b[39m[\u001b[32mInt\u001b[39m] => \u001b[32mOptionT\u001b[39m[\u001b[32mListTramp\u001b[39m, \u001b[32mInt\u001b[39m] = ammonite.$sess.cmd5$Helper$$Lambda$2254/497746237@5bcb05c9\n",
       "\u001b[36mres5_7\u001b[39m: \u001b[32mInt\u001b[39m = \u001b[32m1\u001b[39m"
      ]
     },
     "execution_count": 6,
     "metadata": {},
     "output_type": "execute_result"
    }
   ],
   "source": [
    "implicit val trampolineMonad = new Monad[Trampoline] {\n",
    "    override def pure[A](a: A): Trampoline[A] = More(() => Done(a))\n",
    "\n",
    "    override def flatMap[A, B](fa: Trampoline[A])(f: A => Trampoline[B]): Trampoline[B] =\n",
    "      fa.flatMap(f)\n",
    "\n",
    "    override def map[A, B](fa: Trampoline[A])(f: A => B): Trampoline[B] =\n",
    "      fa.map(f)\n",
    "}\n",
    "\n",
    "implicit def listTMonad[F[_]: Monad, A] = new Monad[({type T[A] = ListT[F, A]})#T] {\n",
    "    override def pure[A](a: A): ListT[F, A] = ListT(Monad[F].pure(List(a)))\n",
    "\n",
    "    override def flatMap[A, B](fa: ListT[F,A])(f: A => ListT[F,B]): ListT[F,B] =\n",
    "      fa.flatMap(f)\n",
    "\n",
    "    override def map[A, B](fa: ListT[F,A])(f: A => B): ListT[F,B] =\n",
    "      fa.map(f)\n",
    "}\n",
    "\n",
    "val lst1: ListTramp[Int] = ListT(Monad[Trampoline].pure(List(1)))\n",
    "val lsta: ListTramp[Int] = listTransM.lift(trampolineMonad.pure(6))\n",
    "\n",
    "val ra: ListOption[Int] = OptionT(lsta.map(i => Option(i)))\n",
    "val r1: ListOption[Int] = OptionT(lst1.map(i => Option(i)))\n",
    "\n",
    "val calc: ListOption[Int] => OptionT[ListTramp, Int] = (r: ListOption[Int]) =>\n",
    "  for {\n",
    "    l1 <- r\n",
    "    l2 <- ra\n",
    "  } yield l1 + l2\n",
    "\n",
    "calc(r1).value.value.runT.size"
   ]
  },
  {
   "cell_type": "code",
   "execution_count": 7,
   "metadata": {},
   "outputs": [
    {
     "name": "stdout",
     "output_type": "stream",
     "text": [
      "30000\n"
     ]
    },
    {
     "data": {
      "text/plain": [
       "\u001b[36ml\u001b[39m: \u001b[32mListT\u001b[39m[\u001b[32mTrampoline\u001b[39m, \u001b[32mInt\u001b[39m] = \u001b[33mListT\u001b[39m(\n",
       "  \u001b[33mMore\u001b[39m(ammonite.$sess.cmd5$Helper$$anon$1$$Lambda$2248/647554740@138b506d)\n",
       ")\n",
       "\u001b[36mr\u001b[39m: \u001b[32mOptionT\u001b[39m[\u001b[32mListT\u001b[39m[\u001b[32mTrampoline\u001b[39m, \u001b[32mA\u001b[39m], \u001b[32mInt\u001b[39m] = \u001b[33mOptionT\u001b[39m(\n",
       "  \u001b[33mListT\u001b[39m(\n",
       "    \u001b[33mFlatMap\u001b[39m(\n",
       "      \u001b[33mMore\u001b[39m(ammonite.$sess.cmd5$Helper$$anon$1$$Lambda$2248/647554740@138b506d),\n",
       "      ammonite.$sess.cmd3$Helper$Trampoline$$Lambda$2250/372864359@52dd78d5\n",
       "    )\n",
       "  )\n",
       ")"
      ]
     },
     "execution_count": 7,
     "metadata": {},
     "output_type": "execute_result"
    }
   ],
   "source": [
    "val l = ListT(Monad[Trampoline].pure((1 to 30000).toList))\n",
    "val r = OptionT(l.map(i => Option(i)))\n",
    "println(calc(r).value.value.runT.size)"
   ]
  },
  {
   "cell_type": "code",
   "execution_count": null,
   "metadata": {},
   "outputs": [],
   "source": []
  }
 ],
 "metadata": {
  "kernelspec": {
   "display_name": "Scala",
   "language": "scala",
   "name": "scala"
  },
  "language_info": {
   "codemirror_mode": "text/x-scala",
   "file_extension": ".scala",
   "mimetype": "text/x-scala",
   "name": "scala",
   "nbconvert_exporter": "script",
   "version": "2.13.1"
  }
 },
 "nbformat": 4,
 "nbformat_minor": 2
}
